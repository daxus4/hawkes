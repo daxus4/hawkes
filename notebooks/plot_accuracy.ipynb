{
 "cells": [
  {
   "cell_type": "code",
   "execution_count": 1,
   "metadata": {},
   "outputs": [
    {
     "name": "stderr",
     "output_type": "stream",
     "text": [
      "/tmp/ipykernel_4652/4065846239.py:30: SettingWithCopyWarning: \n",
      "A value is trying to be set on a copy of a slice from a DataFrame.\n",
      "Try using .loc[row_indexer,col_indexer] = value instead\n",
      "\n",
      "See the caveats in the documentation: https://pandas.pydata.org/pandas-docs/stable/user_guide/indexing.html#returning-a-view-versus-a-copy\n",
      "  best_df['timestamp'] = best_df['timestamp'].apply(lambda x: int(x))\n"
     ]
    },
    {
     "data": {
      "text/html": [
       "<div>\n",
       "<style scoped>\n",
       "    .dataframe tbody tr th:only-of-type {\n",
       "        vertical-align: middle;\n",
       "    }\n",
       "\n",
       "    .dataframe tbody tr th {\n",
       "        vertical-align: top;\n",
       "    }\n",
       "\n",
       "    .dataframe thead th {\n",
       "        text-align: right;\n",
       "    }\n",
       "</style>\n",
       "<table border=\"1\" class=\"dataframe\">\n",
       "  <thead>\n",
       "    <tr style=\"text-align: right;\">\n",
       "      <th></th>\n",
       "      <th>timestamp</th>\n",
       "      <th>timestamp_density</th>\n",
       "      <th>density</th>\n",
       "    </tr>\n",
       "  </thead>\n",
       "  <tbody>\n",
       "    <tr>\n",
       "      <th>126</th>\n",
       "      <td>1705076796365</td>\n",
       "      <td>161544</td>\n",
       "      <td>119</td>\n",
       "    </tr>\n",
       "    <tr>\n",
       "      <th>139</th>\n",
       "      <td>1706027368287</td>\n",
       "      <td>154315</td>\n",
       "      <td>118</td>\n",
       "    </tr>\n",
       "    <tr>\n",
       "      <th>18</th>\n",
       "      <td>1705268954407</td>\n",
       "      <td>212428</td>\n",
       "      <td>116</td>\n",
       "    </tr>\n",
       "    <tr>\n",
       "      <th>120</th>\n",
       "      <td>1705925395390</td>\n",
       "      <td>102636</td>\n",
       "      <td>116</td>\n",
       "    </tr>\n",
       "    <tr>\n",
       "      <th>38</th>\n",
       "      <td>1705074061033</td>\n",
       "      <td>151951</td>\n",
       "      <td>115</td>\n",
       "    </tr>\n",
       "  </tbody>\n",
       "</table>\n",
       "</div>"
      ],
      "text/plain": [
       "         timestamp timestamp_density  density\n",
       "126  1705076796365            161544      119\n",
       "139  1706027368287            154315      118\n",
       "18   1705268954407            212428      116\n",
       "120  1705925395390            102636      116\n",
       "38   1705074061033            151951      115"
      ]
     },
     "execution_count": 1,
     "metadata": {},
     "output_type": "execute_result"
    }
   ],
   "source": [
    "import pandas as pd\n",
    "import matplotlib.pyplot as plt\n",
    "import seaborn as sns\n",
    "import numpy as np\n",
    "import json\n",
    "\n",
    "with open('/home/davide/Desktop/phd/hawkes/data/file_densities_map.json') as f:\n",
    "    config = json.load(f)\n",
    "\n",
    "\n",
    "df_map = {\n",
    "    'timestamp': [],\n",
    "    'timestamp_density': [],\n",
    "    'density': [],\n",
    "}\n",
    "\n",
    "for k, v in config.items():\n",
    "    num_densities = len(v)\n",
    "    timestamp = k.split('_')[2].split('.')[0]\n",
    "    df_map['timestamp'].extend([float(timestamp)] * num_densities)\n",
    "\n",
    "    for info_density in v:\n",
    "        df_map['timestamp_density'].append(pd.Timestamp(info_density[0]).strftime('%H%M%S'))\n",
    "        df_map['density'].append(int(info_density[1]))\n",
    "\n",
    "df_map = pd.DataFrame(df_map)\n",
    "df_map.sort_values(by=['density'], inplace=True, ascending=False)\n",
    "\n",
    "best_df = df_map.iloc[0:67]\n",
    "best_df['timestamp'] = best_df['timestamp'].apply(lambda x: int(x))\n",
    "best_df.head()"
   ]
  },
  {
   "cell_type": "markdown",
   "metadata": {},
   "source": [
    "## Sensitivity Hawkes"
   ]
  },
  {
   "cell_type": "code",
   "execution_count": 4,
   "metadata": {},
   "outputs": [
    {
     "data": {
      "text/html": [
       "<div>\n",
       "<style scoped>\n",
       "    .dataframe tbody tr th:only-of-type {\n",
       "        vertical-align: middle;\n",
       "    }\n",
       "\n",
       "    .dataframe tbody tr th {\n",
       "        vertical-align: top;\n",
       "    }\n",
       "\n",
       "    .dataframe thead th {\n",
       "        text-align: right;\n",
       "    }\n",
       "</style>\n",
       "<table border=\"1\" class=\"dataframe\">\n",
       "  <thead>\n",
       "    <tr style=\"text-align: right;\">\n",
       "      <th></th>\n",
       "      <th>timestamp</th>\n",
       "      <th>timestamp_density</th>\n",
       "      <th>density</th>\n",
       "    </tr>\n",
       "  </thead>\n",
       "  <tbody>\n",
       "    <tr>\n",
       "      <th>0</th>\n",
       "      <td>1705076796365</td>\n",
       "      <td>161544</td>\n",
       "      <td>119</td>\n",
       "    </tr>\n",
       "    <tr>\n",
       "      <th>1</th>\n",
       "      <td>1706027368287</td>\n",
       "      <td>154315</td>\n",
       "      <td>118</td>\n",
       "    </tr>\n",
       "    <tr>\n",
       "      <th>2</th>\n",
       "      <td>1705268954407</td>\n",
       "      <td>212428</td>\n",
       "      <td>116</td>\n",
       "    </tr>\n",
       "    <tr>\n",
       "      <th>3</th>\n",
       "      <td>1705925395390</td>\n",
       "      <td>102636</td>\n",
       "      <td>116</td>\n",
       "    </tr>\n",
       "    <tr>\n",
       "      <th>4</th>\n",
       "      <td>1705074061033</td>\n",
       "      <td>151951</td>\n",
       "      <td>115</td>\n",
       "    </tr>\n",
       "  </tbody>\n",
       "</table>\n",
       "</div>"
      ],
      "text/plain": [
       "       timestamp  timestamp_density  density\n",
       "0  1705076796365             161544      119\n",
       "1  1706027368287             154315      118\n",
       "2  1705268954407             212428      116\n",
       "3  1705925395390             102636      116\n",
       "4  1705074061033             151951      115"
      ]
     },
     "execution_count": 4,
     "metadata": {},
     "output_type": "execute_result"
    }
   ],
   "source": [
    "best_df = pd.read_csv('/home/davide/Desktop/phd/hawkes/data/best_densities.csv')\n",
    "best_df.head()"
   ]
  },
  {
   "cell_type": "code",
   "execution_count": 5,
   "metadata": {},
   "outputs": [
    {
     "data": {
      "text/html": [
       "<div>\n",
       "<style scoped>\n",
       "    .dataframe tbody tr th:only-of-type {\n",
       "        vertical-align: middle;\n",
       "    }\n",
       "\n",
       "    .dataframe tbody tr th {\n",
       "        vertical-align: top;\n",
       "    }\n",
       "\n",
       "    .dataframe thead th {\n",
       "        text-align: right;\n",
       "    }\n",
       "</style>\n",
       "<table border=\"1\" class=\"dataframe\">\n",
       "  <thead>\n",
       "    <tr style=\"text-align: right;\">\n",
       "      <th></th>\n",
       "      <th>timestamp</th>\n",
       "      <th>timestamp_density</th>\n",
       "      <th>method_time_prediction</th>\n",
       "      <th>bi_level</th>\n",
       "      <th>accuracy</th>\n",
       "      <th>returns</th>\n",
       "      <th>training_minutes</th>\n",
       "    </tr>\n",
       "  </thead>\n",
       "  <tbody>\n",
       "    <tr>\n",
       "      <th>0</th>\n",
       "      <td>1.705074e+12</td>\n",
       "      <td>151951.0</td>\n",
       "      <td>hawkes</td>\n",
       "      <td>8</td>\n",
       "      <td>0.643564</td>\n",
       "      <td>22.025213</td>\n",
       "      <td>5</td>\n",
       "    </tr>\n",
       "    <tr>\n",
       "      <th>3</th>\n",
       "      <td>1.705077e+12</td>\n",
       "      <td>161544.0</td>\n",
       "      <td>hawkes</td>\n",
       "      <td>8</td>\n",
       "      <td>0.485714</td>\n",
       "      <td>-20.620770</td>\n",
       "      <td>5</td>\n",
       "    </tr>\n",
       "    <tr>\n",
       "      <th>6</th>\n",
       "      <td>1.705165e+12</td>\n",
       "      <td>163845.0</td>\n",
       "      <td>hawkes</td>\n",
       "      <td>8</td>\n",
       "      <td>0.444444</td>\n",
       "      <td>-24.612985</td>\n",
       "      <td>5</td>\n",
       "    </tr>\n",
       "    <tr>\n",
       "      <th>9</th>\n",
       "      <td>1.705168e+12</td>\n",
       "      <td>174206.0</td>\n",
       "      <td>hawkes</td>\n",
       "      <td>8</td>\n",
       "      <td>0.391304</td>\n",
       "      <td>-48.496684</td>\n",
       "      <td>5</td>\n",
       "    </tr>\n",
       "    <tr>\n",
       "      <th>33</th>\n",
       "      <td>1.705262e+12</td>\n",
       "      <td>193416.0</td>\n",
       "      <td>hawkes</td>\n",
       "      <td>8</td>\n",
       "      <td>0.566265</td>\n",
       "      <td>15.224383</td>\n",
       "      <td>5</td>\n",
       "    </tr>\n",
       "  </tbody>\n",
       "</table>\n",
       "</div>"
      ],
      "text/plain": [
       "       timestamp  timestamp_density method_time_prediction bi_level  accuracy  \\\n",
       "0   1.705074e+12           151951.0                 hawkes        8  0.643564   \n",
       "3   1.705077e+12           161544.0                 hawkes        8  0.485714   \n",
       "6   1.705165e+12           163845.0                 hawkes        8  0.444444   \n",
       "9   1.705168e+12           174206.0                 hawkes        8  0.391304   \n",
       "33  1.705262e+12           193416.0                 hawkes        8  0.566265   \n",
       "\n",
       "      returns  training_minutes  \n",
       "0   22.025213                 5  \n",
       "3  -20.620770                 5  \n",
       "6  -24.612985                 5  \n",
       "9  -48.496684                 5  \n",
       "33  15.224383                 5  "
      ]
     },
     "execution_count": 5,
     "metadata": {},
     "output_type": "execute_result"
    }
   ],
   "source": [
    "result_file_paths = [\n",
    "    (i,f\"/home/davide/Desktop/phd/hawkes/data_{i}min_training/results_all_{i}min.tsv\")\n",
    "    for i in [5,10,15,20]\n",
    "]\n",
    "\n",
    "dfs = []\n",
    "for i, result_file_path in result_file_paths:\n",
    "    df = pd.read_csv(result_file_path, sep='\\t')\n",
    "    df['training_minutes'] = i\n",
    "    df = df[df['method_time_prediction'] == 'hawkes']\n",
    "    dfs.append(df)\n",
    "\n",
    "df = pd.concat(dfs)\n",
    "plot_df = df[df['timestamp'].isin(best_df['timestamp']) & (df['timestamp_density'].isin(best_df['timestamp_density']))]\n",
    "plot_df.head()"
   ]
  },
  {
   "cell_type": "code",
   "execution_count": 21,
   "metadata": {},
   "outputs": [
    {
     "data": {
      "text/html": [
       "<div>\n",
       "<style scoped>\n",
       "    .dataframe tbody tr th:only-of-type {\n",
       "        vertical-align: middle;\n",
       "    }\n",
       "\n",
       "    .dataframe tbody tr th {\n",
       "        vertical-align: top;\n",
       "    }\n",
       "\n",
       "    .dataframe thead th {\n",
       "        text-align: right;\n",
       "    }\n",
       "</style>\n",
       "<table border=\"1\" class=\"dataframe\">\n",
       "  <thead>\n",
       "    <tr style=\"text-align: right;\">\n",
       "      <th></th>\n",
       "      <th>timestamp</th>\n",
       "      <th>timestamp_density</th>\n",
       "      <th>density</th>\n",
       "    </tr>\n",
       "  </thead>\n",
       "  <tbody>\n",
       "  </tbody>\n",
       "</table>\n",
       "</div>"
      ],
      "text/plain": [
       "Empty DataFrame\n",
       "Columns: [timestamp, timestamp_density, density]\n",
       "Index: []"
      ]
     },
     "execution_count": 21,
     "metadata": {},
     "output_type": "execute_result"
    }
   ],
   "source": [
    "best_df[~(best_df['timestamp'].isin(df['timestamp']) & (best_df['timestamp_density'].isin(df['timestamp_density'])))]"
   ]
  },
  {
   "cell_type": "code",
   "execution_count": 22,
   "metadata": {},
   "outputs": [
    {
     "data": {
      "text/plain": [
       "5     50\n",
       "10    50\n",
       "20    50\n",
       "Name: training_minutes, dtype: int64"
      ]
     },
     "execution_count": 22,
     "metadata": {},
     "output_type": "execute_result"
    }
   ],
   "source": [
    "plot_df['training_minutes'].value_counts()"
   ]
  },
  {
   "cell_type": "code",
   "execution_count": 23,
   "metadata": {},
   "outputs": [
    {
     "data": {
      "image/png": "[encoded data removed]",
      "text/plain": [
       "<Figure size 1152x720 with 1 Axes>"
      ]
     },
     "metadata": {
      "needs_background": "light"
     },
     "output_type": "display_data"
    }
   ],
   "source": [
    "# boxplot\n",
    "plt.rcParams[\"figure.figsize\"] = (16,10)\n",
    "sns.boxplot(x='training_minutes', y='accuracy', data=plot_df,showmeans=True, meanline=True)\n",
    "# increase font size\n",
    "#increase plot size\n",
    "plt.rcParams.update({'font.size': 18})\n",
    "\n",
    "plt.xlabel('Hawkes training minutes')\n",
    "plt.ylabel('Accuracy')\n",
    "#put white background\n",
    "sns.set_style(\"whitegrid\")"
   ]
  },
  {
   "cell_type": "markdown",
   "metadata": {},
   "source": [
    "## Sensitivity Moving Average"
   ]
  },
  {
   "cell_type": "code",
   "execution_count": 10,
   "metadata": {},
   "outputs": [
    {
     "data": {
      "text/html": [
       "<div>\n",
       "<style scoped>\n",
       "    .dataframe tbody tr th:only-of-type {\n",
       "        vertical-align: middle;\n",
       "    }\n",
       "\n",
       "    .dataframe tbody tr th {\n",
       "        vertical-align: top;\n",
       "    }\n",
       "\n",
       "    .dataframe thead th {\n",
       "        text-align: right;\n",
       "    }\n",
       "</style>\n",
       "<table border=\"1\" class=\"dataframe\">\n",
       "  <thead>\n",
       "    <tr style=\"text-align: right;\">\n",
       "      <th></th>\n",
       "      <th>timestamp</th>\n",
       "      <th>timestamp_density</th>\n",
       "      <th>seconds</th>\n",
       "      <th>bi_level</th>\n",
       "      <th>accuracy</th>\n",
       "      <th>returns</th>\n",
       "    </tr>\n",
       "  </thead>\n",
       "  <tbody>\n",
       "    <tr>\n",
       "      <th>0</th>\n",
       "      <td>1.705074e+12</td>\n",
       "      <td>151951.0</td>\n",
       "      <td>120.0</td>\n",
       "      <td>8</td>\n",
       "      <td>0.616667</td>\n",
       "      <td>25.689636</td>\n",
       "    </tr>\n",
       "    <tr>\n",
       "      <th>1</th>\n",
       "      <td>1.705074e+12</td>\n",
       "      <td>151951.0</td>\n",
       "      <td>180.0</td>\n",
       "      <td>8</td>\n",
       "      <td>0.625000</td>\n",
       "      <td>26.801633</td>\n",
       "    </tr>\n",
       "    <tr>\n",
       "      <th>2</th>\n",
       "      <td>1.705074e+12</td>\n",
       "      <td>151951.0</td>\n",
       "      <td>240.0</td>\n",
       "      <td>8</td>\n",
       "      <td>0.641667</td>\n",
       "      <td>29.915461</td>\n",
       "    </tr>\n",
       "    <tr>\n",
       "      <th>3</th>\n",
       "      <td>1.705074e+12</td>\n",
       "      <td>151951.0</td>\n",
       "      <td>30.0</td>\n",
       "      <td>8</td>\n",
       "      <td>0.583333</td>\n",
       "      <td>19.012572</td>\n",
       "    </tr>\n",
       "    <tr>\n",
       "      <th>4</th>\n",
       "      <td>1.705074e+12</td>\n",
       "      <td>151951.0</td>\n",
       "      <td>60.0</td>\n",
       "      <td>8</td>\n",
       "      <td>0.608333</td>\n",
       "      <td>22.686357</td>\n",
       "    </tr>\n",
       "  </tbody>\n",
       "</table>\n",
       "</div>"
      ],
      "text/plain": [
       "      timestamp  timestamp_density  seconds  bi_level  accuracy    returns\n",
       "0  1.705074e+12           151951.0    120.0         8  0.616667  25.689636\n",
       "1  1.705074e+12           151951.0    180.0         8  0.625000  26.801633\n",
       "2  1.705074e+12           151951.0    240.0         8  0.641667  29.915461\n",
       "3  1.705074e+12           151951.0     30.0         8  0.583333  19.012572\n",
       "4  1.705074e+12           151951.0     60.0         8  0.608333  22.686357"
      ]
     },
     "execution_count": 10,
     "metadata": {},
     "output_type": "execute_result"
    }
   ],
   "source": [
    "moving_average_df = pd.read_csv('/home/davide/Desktop/phd/hawkes/data_moving_average_windows_results/results_all_movingaverage_BI8.tsv', sep='\\t')\n",
    "moving_average_df.head()"
   ]
  },
  {
   "cell_type": "code",
   "execution_count": 11,
   "metadata": {},
   "outputs": [
    {
     "data": {
      "text/html": [
       "<div>\n",
       "<style scoped>\n",
       "    .dataframe tbody tr th:only-of-type {\n",
       "        vertical-align: middle;\n",
       "    }\n",
       "\n",
       "    .dataframe tbody tr th {\n",
       "        vertical-align: top;\n",
       "    }\n",
       "\n",
       "    .dataframe thead th {\n",
       "        text-align: right;\n",
       "    }\n",
       "</style>\n",
       "<table border=\"1\" class=\"dataframe\">\n",
       "  <thead>\n",
       "    <tr style=\"text-align: right;\">\n",
       "      <th></th>\n",
       "      <th>timestamp</th>\n",
       "      <th>timestamp_density</th>\n",
       "      <th>seconds</th>\n",
       "      <th>bi_level</th>\n",
       "      <th>accuracy</th>\n",
       "      <th>returns</th>\n",
       "    </tr>\n",
       "  </thead>\n",
       "  <tbody>\n",
       "    <tr>\n",
       "      <th>0</th>\n",
       "      <td>1.705074e+12</td>\n",
       "      <td>151951.0</td>\n",
       "      <td>120.0</td>\n",
       "      <td>8</td>\n",
       "      <td>0.616667</td>\n",
       "      <td>25.689636</td>\n",
       "    </tr>\n",
       "    <tr>\n",
       "      <th>1</th>\n",
       "      <td>1.705074e+12</td>\n",
       "      <td>151951.0</td>\n",
       "      <td>180.0</td>\n",
       "      <td>8</td>\n",
       "      <td>0.625000</td>\n",
       "      <td>26.801633</td>\n",
       "    </tr>\n",
       "    <tr>\n",
       "      <th>2</th>\n",
       "      <td>1.705074e+12</td>\n",
       "      <td>151951.0</td>\n",
       "      <td>240.0</td>\n",
       "      <td>8</td>\n",
       "      <td>0.641667</td>\n",
       "      <td>29.915461</td>\n",
       "    </tr>\n",
       "    <tr>\n",
       "      <th>3</th>\n",
       "      <td>1.705074e+12</td>\n",
       "      <td>151951.0</td>\n",
       "      <td>30.0</td>\n",
       "      <td>8</td>\n",
       "      <td>0.583333</td>\n",
       "      <td>19.012572</td>\n",
       "    </tr>\n",
       "    <tr>\n",
       "      <th>4</th>\n",
       "      <td>1.705074e+12</td>\n",
       "      <td>151951.0</td>\n",
       "      <td>60.0</td>\n",
       "      <td>8</td>\n",
       "      <td>0.608333</td>\n",
       "      <td>22.686357</td>\n",
       "    </tr>\n",
       "  </tbody>\n",
       "</table>\n",
       "</div>"
      ],
      "text/plain": [
       "      timestamp  timestamp_density  seconds  bi_level  accuracy    returns\n",
       "0  1.705074e+12           151951.0    120.0         8  0.616667  25.689636\n",
       "1  1.705074e+12           151951.0    180.0         8  0.625000  26.801633\n",
       "2  1.705074e+12           151951.0    240.0         8  0.641667  29.915461\n",
       "3  1.705074e+12           151951.0     30.0         8  0.583333  19.012572\n",
       "4  1.705074e+12           151951.0     60.0         8  0.608333  22.686357"
      ]
     },
     "execution_count": 11,
     "metadata": {},
     "output_type": "execute_result"
    }
   ],
   "source": [
    "plot_df = moving_average_df[moving_average_df['timestamp'].isin(best_df['timestamp']) & (moving_average_df['timestamp_density'].isin(best_df['timestamp_density']))]\n",
    "plot_df.head()"
   ]
  },
  {
   "cell_type": "code",
   "execution_count": 12,
   "metadata": {},
   "outputs": [
    {
     "data": {
      "text/plain": [
       "120.0    50\n",
       "180.0    50\n",
       "240.0    50\n",
       "30.0     50\n",
       "60.0     50\n",
       "Name: seconds, dtype: int64"
      ]
     },
     "execution_count": 12,
     "metadata": {},
     "output_type": "execute_result"
    }
   ],
   "source": [
    "plot_df['seconds'].value_counts()"
   ]
  },
  {
   "cell_type": "code",
   "execution_count": 15,
   "metadata": {},
   "outputs": [
    {
     "data": {
      "text/plain": [
       "seconds\n",
       "30.0     0.529735\n",
       "60.0     0.524237\n",
       "120.0    0.524167\n",
       "180.0    0.518000\n",
       "240.0    0.524500\n",
       "Name: accuracy, dtype: float64"
      ]
     },
     "execution_count": 15,
     "metadata": {},
     "output_type": "execute_result"
    }
   ],
   "source": [
    "plot_df.groupby('seconds')['accuracy'].mean()"
   ]
  },
  {
   "cell_type": "code",
   "execution_count": 13,
   "metadata": {},
   "outputs": [
    {
     "data": {
      "image/png": "[encoded data removed]",
      "text/plain": [
       "<Figure size 1152x720 with 1 Axes>"
      ]
     },
     "metadata": {
      "needs_background": "light"
     },
     "output_type": "display_data"
    }
   ],
   "source": [
    "# boxplot\n",
    "plt.rcParams[\"figure.figsize\"] = (16,10)\n",
    "sns.boxplot(x='seconds', y='accuracy', data=plot_df,showmeans=True, meanline=True)\n",
    "# increase font size\n",
    "#increase plot size\n",
    "plt.rcParams.update({'font.size': 18})\n",
    "\n",
    "plt.xlabel('Moving Average window size (seconds)')\n",
    "plt.ylabel('Accuracy')\n",
    "#put white background\n",
    "sns.set_style(\"whitegrid\")"
   ]
  },
  {
   "cell_type": "markdown",
   "metadata": {},
   "source": [
    "## Accuracy"
   ]
  },
  {
   "cell_type": "code",
   "execution_count": 28,
   "metadata": {},
   "outputs": [
    {
     "data": {
      "text/html": [
       "<div>\n",
       "<style scoped>\n",
       "    .dataframe tbody tr th:only-of-type {\n",
       "        vertical-align: middle;\n",
       "    }\n",
       "\n",
       "    .dataframe tbody tr th {\n",
       "        vertical-align: top;\n",
       "    }\n",
       "\n",
       "    .dataframe thead th {\n",
       "        text-align: right;\n",
       "    }\n",
       "</style>\n",
       "<table border=\"1\" class=\"dataframe\">\n",
       "  <thead>\n",
       "    <tr style=\"text-align: right;\">\n",
       "      <th></th>\n",
       "      <th>timestamp</th>\n",
       "      <th>timestamp_density</th>\n",
       "      <th>method_time_prediction</th>\n",
       "      <th>bi_level</th>\n",
       "      <th>accuracy</th>\n",
       "      <th>returns</th>\n",
       "    </tr>\n",
       "  </thead>\n",
       "  <tbody>\n",
       "    <tr>\n",
       "      <th>0</th>\n",
       "      <td>1.705074e+12</td>\n",
       "      <td>151951.0</td>\n",
       "      <td>hawkes</td>\n",
       "      <td>8</td>\n",
       "      <td>0.588235</td>\n",
       "      <td>16.021835</td>\n",
       "    </tr>\n",
       "    <tr>\n",
       "      <th>1</th>\n",
       "      <td>1.705074e+12</td>\n",
       "      <td>151951.0</td>\n",
       "      <td>naive</td>\n",
       "      <td>8</td>\n",
       "      <td>0.628099</td>\n",
       "      <td>31.022824</td>\n",
       "    </tr>\n",
       "    <tr>\n",
       "      <th>2</th>\n",
       "      <td>1.705074e+12</td>\n",
       "      <td>151951.0</td>\n",
       "      <td>oracle</td>\n",
       "      <td>8</td>\n",
       "      <td>0.587719</td>\n",
       "      <td>24.467495</td>\n",
       "    </tr>\n",
       "    <tr>\n",
       "      <th>3</th>\n",
       "      <td>1.705077e+12</td>\n",
       "      <td>161544.0</td>\n",
       "      <td>hawkes</td>\n",
       "      <td>8</td>\n",
       "      <td>0.480769</td>\n",
       "      <td>-15.063808</td>\n",
       "    </tr>\n",
       "    <tr>\n",
       "      <th>4</th>\n",
       "      <td>1.705077e+12</td>\n",
       "      <td>161544.0</td>\n",
       "      <td>naive</td>\n",
       "      <td>8</td>\n",
       "      <td>0.454545</td>\n",
       "      <td>-31.939553</td>\n",
       "    </tr>\n",
       "  </tbody>\n",
       "</table>\n",
       "</div>"
      ],
      "text/plain": [
       "      timestamp  timestamp_density method_time_prediction  bi_level  accuracy  \\\n",
       "0  1.705074e+12           151951.0                 hawkes         8  0.588235   \n",
       "1  1.705074e+12           151951.0                  naive         8  0.628099   \n",
       "2  1.705074e+12           151951.0                 oracle         8  0.587719   \n",
       "3  1.705077e+12           161544.0                 hawkes         8  0.480769   \n",
       "4  1.705077e+12           161544.0                  naive         8  0.454545   \n",
       "\n",
       "     returns  \n",
       "0  16.021835  \n",
       "1  31.022824  \n",
       "2  24.467495  \n",
       "3 -15.063808  \n",
       "4 -31.939553  "
      ]
     },
     "execution_count": 28,
     "metadata": {},
     "output_type": "execute_result"
    }
   ],
   "source": [
    "df = pd.read_csv('/home/davide/Desktop/phd/hawkes/data_20min_training/results_all_20min.tsv', sep='\\t')\n",
    "df = df[df['method_time_prediction'] != 'movingaverage']\n",
    "df.sort_values(by=['timestamp', 'timestamp_density'], inplace=True)\n",
    "\n",
    "df.dropna(inplace=True)\n",
    "df.head()"
   ]
  },
  {
   "cell_type": "code",
   "execution_count": 29,
   "metadata": {},
   "outputs": [
    {
     "data": {
      "text/html": [
       "<div>\n",
       "<style scoped>\n",
       "    .dataframe tbody tr th:only-of-type {\n",
       "        vertical-align: middle;\n",
       "    }\n",
       "\n",
       "    .dataframe tbody tr th {\n",
       "        vertical-align: top;\n",
       "    }\n",
       "\n",
       "    .dataframe thead th {\n",
       "        text-align: right;\n",
       "    }\n",
       "</style>\n",
       "<table border=\"1\" class=\"dataframe\">\n",
       "  <thead>\n",
       "    <tr style=\"text-align: right;\">\n",
       "      <th></th>\n",
       "      <th>timestamp</th>\n",
       "      <th>timestamp_density</th>\n",
       "      <th>method_time_prediction</th>\n",
       "      <th>bi_level</th>\n",
       "      <th>accuracy</th>\n",
       "      <th>returns</th>\n",
       "    </tr>\n",
       "  </thead>\n",
       "  <tbody>\n",
       "    <tr>\n",
       "      <th>0</th>\n",
       "      <td>1.705074e+12</td>\n",
       "      <td>151951.0</td>\n",
       "      <td>hawkes</td>\n",
       "      <td>8</td>\n",
       "      <td>0.588235</td>\n",
       "      <td>16.021835</td>\n",
       "    </tr>\n",
       "    <tr>\n",
       "      <th>1</th>\n",
       "      <td>1.705074e+12</td>\n",
       "      <td>151951.0</td>\n",
       "      <td>naive</td>\n",
       "      <td>8</td>\n",
       "      <td>0.628099</td>\n",
       "      <td>31.022824</td>\n",
       "    </tr>\n",
       "    <tr>\n",
       "      <th>2</th>\n",
       "      <td>1.705074e+12</td>\n",
       "      <td>151951.0</td>\n",
       "      <td>oracle</td>\n",
       "      <td>8</td>\n",
       "      <td>0.587719</td>\n",
       "      <td>24.467495</td>\n",
       "    </tr>\n",
       "    <tr>\n",
       "      <th>3</th>\n",
       "      <td>1.705077e+12</td>\n",
       "      <td>161544.0</td>\n",
       "      <td>hawkes</td>\n",
       "      <td>8</td>\n",
       "      <td>0.480769</td>\n",
       "      <td>-15.063808</td>\n",
       "    </tr>\n",
       "    <tr>\n",
       "      <th>4</th>\n",
       "      <td>1.705077e+12</td>\n",
       "      <td>161544.0</td>\n",
       "      <td>naive</td>\n",
       "      <td>8</td>\n",
       "      <td>0.454545</td>\n",
       "      <td>-31.939553</td>\n",
       "    </tr>\n",
       "  </tbody>\n",
       "</table>\n",
       "</div>"
      ],
      "text/plain": [
       "      timestamp  timestamp_density method_time_prediction  bi_level  accuracy  \\\n",
       "0  1.705074e+12           151951.0                 hawkes         8  0.588235   \n",
       "1  1.705074e+12           151951.0                  naive         8  0.628099   \n",
       "2  1.705074e+12           151951.0                 oracle         8  0.587719   \n",
       "3  1.705077e+12           161544.0                 hawkes         8  0.480769   \n",
       "4  1.705077e+12           161544.0                  naive         8  0.454545   \n",
       "\n",
       "     returns  \n",
       "0  16.021835  \n",
       "1  31.022824  \n",
       "2  24.467495  \n",
       "3 -15.063808  \n",
       "4 -31.939553  "
      ]
     },
     "execution_count": 29,
     "metadata": {},
     "output_type": "execute_result"
    }
   ],
   "source": [
    "plot_df = df[df['timestamp'].isin(best_df['timestamp']) & (df['timestamp_density'].isin(best_df['timestamp_density']))]\n",
    "plot_df.head()"
   ]
  },
  {
   "cell_type": "code",
   "execution_count": 30,
   "metadata": {},
   "outputs": [
    {
     "data": {
      "text/plain": [
       "hawkes    50\n",
       "naive     50\n",
       "oracle    50\n",
       "Name: method_time_prediction, dtype: int64"
      ]
     },
     "execution_count": 30,
     "metadata": {},
     "output_type": "execute_result"
    }
   ],
   "source": [
    "plot_df['method_time_prediction'].value_counts()"
   ]
  },
  {
   "cell_type": "code",
   "execution_count": 31,
   "metadata": {},
   "outputs": [
    {
     "data": {
      "text/html": [
       "<div>\n",
       "<style scoped>\n",
       "    .dataframe tbody tr th:only-of-type {\n",
       "        vertical-align: middle;\n",
       "    }\n",
       "\n",
       "    .dataframe tbody tr th {\n",
       "        vertical-align: top;\n",
       "    }\n",
       "\n",
       "    .dataframe thead th {\n",
       "        text-align: right;\n",
       "    }\n",
       "</style>\n",
       "<table border=\"1\" class=\"dataframe\">\n",
       "  <thead>\n",
       "    <tr style=\"text-align: right;\">\n",
       "      <th></th>\n",
       "      <th>timestamp</th>\n",
       "      <th>timestamp_density</th>\n",
       "      <th>method_time_prediction</th>\n",
       "    </tr>\n",
       "  </thead>\n",
       "  <tbody>\n",
       "  </tbody>\n",
       "</table>\n",
       "</div>"
      ],
      "text/plain": [
       "Empty DataFrame\n",
       "Columns: [timestamp, timestamp_density, method_time_prediction]\n",
       "Index: []"
      ]
     },
     "execution_count": 31,
     "metadata": {},
     "output_type": "execute_result"
    }
   ],
   "source": [
    "densities=plot_df.groupby(['timestamp', 'timestamp_density']).agg({'method_time_prediction': list})\n",
    "a=densities[densities['method_time_prediction'].apply(lambda x: len(x)) < 3].reset_index()\n",
    "a['timestamp_density'] = a['timestamp_density'].apply(lambda x: int(x))\n",
    "a['timestamp'] = a['timestamp'].apply(lambda x: int(x))\n",
    "a"
   ]
  },
  {
   "cell_type": "code",
   "execution_count": 32,
   "metadata": {},
   "outputs": [],
   "source": [
    "plot_df=plot_df[['method_time_prediction', 'accuracy', 'returns']]\n",
    "moving_average_df=moving_average_df[moving_average_df['seconds'] == 30].copy()\n",
    "moving_average_df['method_time_prediction'] = 'movingaverage'\n",
    "plot_df = pd.concat([plot_df, moving_average_df[['method_time_prediction', 'accuracy', 'returns']]])"
   ]
  },
  {
   "cell_type": "code",
   "execution_count": 33,
   "metadata": {},
   "outputs": [
    {
     "data": {
      "image/png": "[encoded data removed]",
      "text/plain": [
       "<Figure size 1152x720 with 1 Axes>"
      ]
     },
     "metadata": {},
     "output_type": "display_data"
    }
   ],
   "source": [
    "plt.rcParams[\"figure.figsize\"] = (16,10)\n",
    "order = ['oracle', 'hawkes', 'movingaverage', 'naive']\n",
    "sns.boxplot(x='method_time_prediction', y='accuracy', data=plot_df, order=order, showmeans=True, meanline=True)\n",
    "#increase plot size\n",
    "plt.ylabel('Accuracy')\n",
    "plt.rcParams.update({'font.size': 18})\n",
    "# delete x label\n",
    "plt.xlabel('')\n",
    "# set x ticks labels\n",
    "plt.xticks([0, 1, 2, 3], ['Oracle', 'Hawkes', 'Moving Average', 'Naive'])\n",
    "plt.show()"
   ]
  },
  {
   "cell_type": "code",
   "execution_count": 34,
   "metadata": {},
   "outputs": [
    {
     "data": {
      "image/png": "[encoded data removed]",
      "text/plain": [
       "<Figure size 1152x720 with 1 Axes>"
      ]
     },
     "metadata": {},
     "output_type": "display_data"
    }
   ],
   "source": [
    "plt.rcParams[\"figure.figsize\"] = (16,10)\n",
    "order = ['oracle', 'hawkes', 'movingaverage', 'naive']\n",
    "sns.boxplot(x='method_time_prediction', y='returns', data=plot_df, order=order, showmeans=True, meanline=True)\n",
    "#increase plot size\n",
    "plt.ylabel('Returns')\n",
    "plt.rcParams.update({'font.size': 18})\n",
    "# delete x label\n",
    "plt.xlabel('')\n",
    "# set x ticks labels\n",
    "plt.xticks([0, 1, 2, 3], ['Oracle', 'Hawkes', 'Moving Average', 'Naive'])\n",
    "plt.show()"
   ]
  },
  {
   "cell_type": "code",
   "execution_count": 18,
   "metadata": {},
   "outputs": [
    {
     "data": {
      "text/html": [
       "<div>\n",
       "<style scoped>\n",
       "    .dataframe tbody tr th:only-of-type {\n",
       "        vertical-align: middle;\n",
       "    }\n",
       "\n",
       "    .dataframe tbody tr th {\n",
       "        vertical-align: top;\n",
       "    }\n",
       "\n",
       "    .dataframe thead th {\n",
       "        text-align: right;\n",
       "    }\n",
       "</style>\n",
       "<table border=\"1\" class=\"dataframe\">\n",
       "  <thead>\n",
       "    <tr style=\"text-align: right;\">\n",
       "      <th></th>\n",
       "      <th>timestamp</th>\n",
       "      <th>timestamp_density</th>\n",
       "      <th>method_time_prediction</th>\n",
       "      <th>bi_level</th>\n",
       "      <th>accuracy</th>\n",
       "      <th>returns</th>\n",
       "    </tr>\n",
       "  </thead>\n",
       "  <tbody>\n",
       "    <tr>\n",
       "      <th>0</th>\n",
       "      <td>1.705074e+12</td>\n",
       "      <td>151951.0</td>\n",
       "      <td>hawkes</td>\n",
       "      <td>8</td>\n",
       "      <td>0.588235</td>\n",
       "      <td>16.021835</td>\n",
       "    </tr>\n",
       "    <tr>\n",
       "      <th>1</th>\n",
       "      <td>1.705074e+12</td>\n",
       "      <td>151951.0</td>\n",
       "      <td>movingaverage</td>\n",
       "      <td>8</td>\n",
       "      <td>0.616667</td>\n",
       "      <td>25.689636</td>\n",
       "    </tr>\n",
       "    <tr>\n",
       "      <th>2</th>\n",
       "      <td>1.705074e+12</td>\n",
       "      <td>151951.0</td>\n",
       "      <td>naive</td>\n",
       "      <td>8</td>\n",
       "      <td>0.628099</td>\n",
       "      <td>31.022824</td>\n",
       "    </tr>\n",
       "    <tr>\n",
       "      <th>3</th>\n",
       "      <td>1.705074e+12</td>\n",
       "      <td>151951.0</td>\n",
       "      <td>oracle</td>\n",
       "      <td>8</td>\n",
       "      <td>0.587719</td>\n",
       "      <td>24.467495</td>\n",
       "    </tr>\n",
       "    <tr>\n",
       "      <th>4</th>\n",
       "      <td>1.705077e+12</td>\n",
       "      <td>161544.0</td>\n",
       "      <td>hawkes</td>\n",
       "      <td>8</td>\n",
       "      <td>0.480769</td>\n",
       "      <td>-15.063808</td>\n",
       "    </tr>\n",
       "  </tbody>\n",
       "</table>\n",
       "</div>"
      ],
      "text/plain": [
       "      timestamp  timestamp_density method_time_prediction  bi_level  accuracy  \\\n",
       "0  1.705074e+12           151951.0                 hawkes         8  0.588235   \n",
       "1  1.705074e+12           151951.0          movingaverage         8  0.616667   \n",
       "2  1.705074e+12           151951.0                  naive         8  0.628099   \n",
       "3  1.705074e+12           151951.0                 oracle         8  0.587719   \n",
       "4  1.705077e+12           161544.0                 hawkes         8  0.480769   \n",
       "\n",
       "     returns  \n",
       "0  16.021835  \n",
       "1  25.689636  \n",
       "2  31.022824  \n",
       "3  24.467495  \n",
       "4 -15.063808  "
      ]
     },
     "execution_count": 18,
     "metadata": {},
     "output_type": "execute_result"
    }
   ],
   "source": [
    "df = pd.read_csv('//home/davide/Desktop/phd/hawkes/data_20min_training_with_ma/results_all_20min.tsv', sep='\\t')\n",
    "df.sort_values(by=['timestamp', 'timestamp_density'], inplace=True)\n",
    "df.dropna(inplace=True)\n",
    "plot_df = df[df['timestamp'].isin(best_df['timestamp']) & (df['timestamp_density'].isin(best_df['timestamp_density']))]\n",
    "plot_df.head()"
   ]
  },
  {
   "cell_type": "code",
   "execution_count": 19,
   "metadata": {},
   "outputs": [
    {
     "data": {
      "image/png": "[encoded data removed]",
      "text/plain": [
       "<Figure size 1152x720 with 1 Axes>"
      ]
     },
     "metadata": {},
     "output_type": "display_data"
    }
   ],
   "source": [
    "plt.rcParams[\"figure.figsize\"] = (16,10)\n",
    "order = ['oracle', 'hawkes', 'movingaverage', 'naive']\n",
    "sns.boxplot(x='method_time_prediction', y='accuracy', data=plot_df, order=order, showmeans=True, meanline=True)\n",
    "#increase plot size\n",
    "plt.ylabel('Accuracy')\n",
    "plt.rcParams.update({'font.size': 18})\n",
    "# delete x label\n",
    "plt.xlabel('')\n",
    "# set x ticks labels\n",
    "plt.xticks([0, 1, 2, 3], ['Oracle', 'Hawkes', 'Moving Average', 'Naive'])\n",
    "plt.show()"
   ]
  },
  {
   "cell_type": "code",
   "execution_count": 20,
   "metadata": {},
   "outputs": [
    {
     "data": {
      "image/png": "[encoded data removed]",
      "text/plain": [
       "<Figure size 1152x720 with 1 Axes>"
      ]
     },
     "metadata": {},
     "output_type": "display_data"
    }
   ],
   "source": [
    "plt.rcParams[\"figure.figsize\"] = (16,10)\n",
    "order = ['oracle', 'hawkes', 'movingaverage', 'naive']\n",
    "sns.boxplot(x='method_time_prediction', y='returns', data=plot_df, order=order, showmeans=True, meanline=True)\n",
    "#increase plot size\n",
    "plt.ylabel('Returns')\n",
    "plt.rcParams.update({'font.size': 18})\n",
    "# delete x label\n",
    "plt.xlabel('')\n",
    "# set x ticks labels\n",
    "plt.xticks([0, 1, 2, 3], ['Oracle', 'Hawkes', 'Moving Average', 'Naive'])\n",
    "plt.show()"
   ]
  },
  {
   "cell_type": "code",
   "execution_count": 22,
   "metadata": {},
   "outputs": [
    {
     "data": {
      "text/plain": [
       "method_time_prediction\n",
       "hawkes           1.210755\n",
       "movingaverage    1.741408\n",
       "naive           -0.857980\n",
       "oracle           1.846335\n",
       "Name: returns, dtype: float64"
      ]
     },
     "execution_count": 22,
     "metadata": {},
     "output_type": "execute_result"
    }
   ],
   "source": [
    "plot_df.groupby('method_time_prediction')['returns'].mean()"
   ]
  },
  {
   "cell_type": "code",
   "execution_count": null,
   "metadata": {},
   "outputs": [
    {
     "name": "stderr",
     "output_type": "stream",
     "text": [
      "/tmp/ipykernel_3441/2500060855.py:27: SettingWithCopyWarning: \n",
      "A value is trying to be set on a copy of a slice from a DataFrame.\n",
      "Try using .loc[row_indexer,col_indexer] = value instead\n",
      "\n",
      "See the caveats in the documentation: https://pandas.pydata.org/pandas-docs/stable/user_guide/indexing.html#returning-a-view-versus-a-copy\n",
      "  best_df['timestamp'] = best_df['timestamp'].apply(lambda x: int(x))\n",
      "/tmp/ipykernel_3441/2500060855.py:32: SettingWithCopyWarning: \n",
      "A value is trying to be set on a copy of a slice from a DataFrame.\n",
      "Try using .loc[row_indexer,col_indexer] = value instead\n",
      "\n",
      "See the caveats in the documentation: https://pandas.pydata.org/pandas-docs/stable/user_guide/indexing.html#returning-a-view-versus-a-copy\n",
      "  best_df['timestamp'] = best_df['timestamp'].apply(lambda x: int(x))\n"
     ]
    }
   ],
   "source": [
    "# read json\n",
    "import json\n",
    "with open('/home/davide/Desktop/phd/hawkes/data/file_densities_map.json') as f:\n",
    "    config = json.load(f)\n",
    "\n",
    "\n",
    "df_map = {\n",
    "    'timestamp': [],\n",
    "    'timestamp_density': [],\n",
    "    'density': [],\n",
    "}\n",
    "\n",
    "for k, v in config.items():\n",
    "    num_densities = len(v)\n",
    "    timestamp = k.split('_')[2].split('.')[0]\n",
    "    df_map['timestamp'].extend([float(timestamp)] * num_densities)\n",
    "\n",
    "    for info_density in v:\n",
    "        df_map['timestamp_density'].append(pd.Timestamp(info_density[0]).strftime('%H%M%S'))\n",
    "        df_map['density'].append(int(info_density[1]))\n",
    "\n",
    "df_map = pd.DataFrame(df_map)\n",
    "df_map.sort_values(by=['density'], inplace=True, ascending=False)\n",
    "\n",
    "best_df = df_map.iloc[0:67]\n",
    "best_df.head()\n",
    "best_df['timestamp'] = best_df['timestamp'].apply(lambda x: int(x))\n",
    "df['timestamp_density'] = df['timestamp_density'].apply(lambda x: '000000' if np.isnan(x) else str(int(x)))\n",
    "df['timestamp_density'] = df['timestamp_density'].str.pad(6, side='left', fillchar='0')\n",
    "plot_df = df[df['timestamp'].isin(best_df['timestamp']) & (df['timestamp_density'].isin(best_df['timestamp_density']))]\n",
    "\n",
    "best_df['timestamp'] = best_df['timestamp'].apply(lambda x: int(x))\n",
    "best_df.to_csv('/home/davide/Desktop/phd/hawkes/data/best_densities.csv', index=False)\n"
   ]
  },
  {
   "cell_type": "code",
   "execution_count": null,
   "metadata": {},
   "outputs": [
    {
     "data": {
      "text/plain": [
       "oracle           67\n",
       "hawkes           65\n",
       "movingaverage    64\n",
       "naive            63\n",
       "Name: method_time_prediction, dtype: int64"
      ]
     },
     "execution_count": 13,
     "metadata": {},
     "output_type": "execute_result"
    }
   ],
   "source": [
    "plot_df['method_time_prediction'].value_counts()"
   ]
  },
  {
   "cell_type": "code",
   "execution_count": null,
   "metadata": {},
   "outputs": [
    {
     "data": {
      "text/html": [
       "<div>\n",
       "<style scoped>\n",
       "    .dataframe tbody tr th:only-of-type {\n",
       "        vertical-align: middle;\n",
       "    }\n",
       "\n",
       "    .dataframe tbody tr th {\n",
       "        vertical-align: top;\n",
       "    }\n",
       "\n",
       "    .dataframe thead th {\n",
       "        text-align: right;\n",
       "    }\n",
       "</style>\n",
       "<table border=\"1\" class=\"dataframe\">\n",
       "  <thead>\n",
       "    <tr style=\"text-align: right;\">\n",
       "      <th></th>\n",
       "      <th>timestamp</th>\n",
       "      <th>timestamp_density</th>\n",
       "      <th>method_time_prediction</th>\n",
       "      <th>bi_level</th>\n",
       "      <th>accuracy</th>\n",
       "      <th>returns</th>\n",
       "    </tr>\n",
       "  </thead>\n",
       "  <tbody>\n",
       "    <tr>\n",
       "      <th>6</th>\n",
       "      <td>1705272255894</td>\n",
       "      <td>223115</td>\n",
       "      <td>2</td>\n",
       "      <td>2</td>\n",
       "      <td>2</td>\n",
       "      <td>2</td>\n",
       "    </tr>\n",
       "    <tr>\n",
       "      <th>7</th>\n",
       "      <td>1705356920082</td>\n",
       "      <td>212314</td>\n",
       "      <td>3</td>\n",
       "      <td>3</td>\n",
       "      <td>3</td>\n",
       "      <td>3</td>\n",
       "    </tr>\n",
       "    <tr>\n",
       "      <th>16</th>\n",
       "      <td>1705486157408</td>\n",
       "      <td>100410</td>\n",
       "      <td>3</td>\n",
       "      <td>3</td>\n",
       "      <td>3</td>\n",
       "      <td>3</td>\n",
       "    </tr>\n",
       "    <tr>\n",
       "      <th>17</th>\n",
       "      <td>1705489579996</td>\n",
       "      <td>104953</td>\n",
       "      <td>3</td>\n",
       "      <td>3</td>\n",
       "      <td>3</td>\n",
       "      <td>3</td>\n",
       "    </tr>\n",
       "    <tr>\n",
       "      <th>24</th>\n",
       "      <td>1705789717468</td>\n",
       "      <td>215024</td>\n",
       "      <td>2</td>\n",
       "      <td>2</td>\n",
       "      <td>2</td>\n",
       "      <td>2</td>\n",
       "    </tr>\n",
       "    <tr>\n",
       "      <th>28</th>\n",
       "      <td>1705916299647</td>\n",
       "      <td>081343</td>\n",
       "      <td>3</td>\n",
       "      <td>3</td>\n",
       "      <td>3</td>\n",
       "      <td>3</td>\n",
       "    </tr>\n",
       "    <tr>\n",
       "      <th>33</th>\n",
       "      <td>1705960026847</td>\n",
       "      <td>210500</td>\n",
       "      <td>2</td>\n",
       "      <td>2</td>\n",
       "      <td>2</td>\n",
       "      <td>2</td>\n",
       "    </tr>\n",
       "    <tr>\n",
       "      <th>52</th>\n",
       "      <td>1707216507382</td>\n",
       "      <td>104002</td>\n",
       "      <td>3</td>\n",
       "      <td>3</td>\n",
       "      <td>3</td>\n",
       "      <td>3</td>\n",
       "    </tr>\n",
       "    <tr>\n",
       "      <th>55</th>\n",
       "      <td>1707234560871</td>\n",
       "      <td>152856</td>\n",
       "      <td>3</td>\n",
       "      <td>3</td>\n",
       "      <td>3</td>\n",
       "      <td>3</td>\n",
       "    </tr>\n",
       "  </tbody>\n",
       "</table>\n",
       "</div>"
      ],
      "text/plain": [
       "        timestamp timestamp_density  method_time_prediction  bi_level  \\\n",
       "6   1705272255894            223115                       2         2   \n",
       "7   1705356920082            212314                       3         3   \n",
       "16  1705486157408            100410                       3         3   \n",
       "17  1705489579996            104953                       3         3   \n",
       "24  1705789717468            215024                       2         2   \n",
       "28  1705916299647            081343                       3         3   \n",
       "33  1705960026847            210500                       2         2   \n",
       "52  1707216507382            104002                       3         3   \n",
       "55  1707234560871            152856                       3         3   \n",
       "\n",
       "    accuracy  returns  \n",
       "6          2        2  \n",
       "7          3        3  \n",
       "16         3        3  \n",
       "17         3        3  \n",
       "24         2        2  \n",
       "28         3        3  \n",
       "33         2        2  \n",
       "52         3        3  \n",
       "55         3        3  "
      ]
     },
     "execution_count": 20,
     "metadata": {},
     "output_type": "execute_result"
    }
   ],
   "source": [
    "densities_descriptions = plot_df.groupby(['timestamp', 'timestamp_density']).count().reset_index()\n",
    "densities_descriptions['timestamp'] = densities_descriptions['timestamp'].apply(lambda x: str(x)[:-2])\n",
    "densities_descriptions[densities_descriptions['method_time_prediction'] < 4]"
   ]
  },
  {
   "cell_type": "code",
   "execution_count": null,
   "metadata": {},
   "outputs": [
    {
     "data": {
      "text/html": [
       "<div>\n",
       "<style scoped>\n",
       "    .dataframe tbody tr th:only-of-type {\n",
       "        vertical-align: middle;\n",
       "    }\n",
       "\n",
       "    .dataframe tbody tr th {\n",
       "        vertical-align: top;\n",
       "    }\n",
       "\n",
       "    .dataframe thead th {\n",
       "        text-align: right;\n",
       "    }\n",
       "</style>\n",
       "<table border=\"1\" class=\"dataframe\">\n",
       "  <thead>\n",
       "    <tr style=\"text-align: right;\">\n",
       "      <th></th>\n",
       "      <th></th>\n",
       "      <th>method_time_prediction</th>\n",
       "      <th>accuracy</th>\n",
       "    </tr>\n",
       "    <tr>\n",
       "      <th>timestamp</th>\n",
       "      <th>timestamp_density</th>\n",
       "      <th></th>\n",
       "      <th></th>\n",
       "    </tr>\n",
       "  </thead>\n",
       "  <tbody>\n",
       "    <tr>\n",
       "      <th>1.705074e+12</th>\n",
       "      <th>151951</th>\n",
       "      <td>[hawkes, movingaverage, naive, oracle]</td>\n",
       "      <td>[0.558333333333333, 0.591666666666667, 0.64166...</td>\n",
       "    </tr>\n",
       "    <tr>\n",
       "      <th>1.705077e+12</th>\n",
       "      <th>161544</th>\n",
       "      <td>[hawkes, movingaverage, naive, oracle]</td>\n",
       "      <td>[0.5, 0.466666666666667, 0.45, 0.475]</td>\n",
       "    </tr>\n",
       "    <tr>\n",
       "      <th>1.705165e+12</th>\n",
       "      <th>163845</th>\n",
       "      <td>[hawkes, movingaverage, naive, oracle]</td>\n",
       "      <td>[0.45, 0.441666666666667, 0.433333333333333, 0.5]</td>\n",
       "    </tr>\n",
       "    <tr>\n",
       "      <th>1.705168e+12</th>\n",
       "      <th>174206</th>\n",
       "      <td>[hawkes, movingaverage, naive, oracle]</td>\n",
       "      <td>[0.391666666666667, 0.541666666666667, 0.45833...</td>\n",
       "    </tr>\n",
       "    <tr>\n",
       "      <th>1.705262e+12</th>\n",
       "      <th>193416</th>\n",
       "      <td>[hawkes, movingaverage, naive, oracle]</td>\n",
       "      <td>[0.541666666666667, 0.575, 0.541666666666667, ...</td>\n",
       "    </tr>\n",
       "    <tr>\n",
       "      <th>1.705269e+12</th>\n",
       "      <th>212428</th>\n",
       "      <td>[hawkes, movingaverage, naive, oracle]</td>\n",
       "      <td>[0.608333333333333, 0.608333333333333, 0.50833...</td>\n",
       "    </tr>\n",
       "    <tr>\n",
       "      <th>1.705357e+12</th>\n",
       "      <th>220939</th>\n",
       "      <td>[hawkes, movingaverage, naive, oracle]</td>\n",
       "      <td>[0.658333333333333, 0.35, 0.641666666666667, 0...</td>\n",
       "    </tr>\n",
       "    <tr>\n",
       "      <th rowspan=\"2\" valign=\"top\">1.705365e+12</th>\n",
       "      <th>000334</th>\n",
       "      <td>[hawkes, movingaverage, naive, oracle]</td>\n",
       "      <td>[0.45, 0.625, 0.341666666666667, 0.625]</td>\n",
       "    </tr>\n",
       "    <tr>\n",
       "      <th>231506</th>\n",
       "      <td>[hawkes, movingaverage, naive, oracle]</td>\n",
       "      <td>[0.741666666666667, 0.666666666666667, 0.70833...</td>\n",
       "    </tr>\n",
       "    <tr>\n",
       "      <th>1.705379e+12</th>\n",
       "      <th>032503</th>\n",
       "      <td>[hawkes, movingaverage, naive, oracle]</td>\n",
       "      <td>[0.583333333333333, 0.6, 0.525, 0.616666666666...</td>\n",
       "    </tr>\n",
       "    <tr>\n",
       "      <th rowspan=\"2\" valign=\"top\">1.705442e+12</th>\n",
       "      <th>203957</th>\n",
       "      <td>[hawkes, movingaverage, naive, oracle]</td>\n",
       "      <td>[0.316666666666667, 0.275, 0.241666666666667, ...</td>\n",
       "    </tr>\n",
       "    <tr>\n",
       "      <th>212215</th>\n",
       "      <td>[hawkes, movingaverage, naive, oracle]</td>\n",
       "      <td>[0.325, 0.441666666666667, 0.433333333333333, ...</td>\n",
       "    </tr>\n",
       "    <tr>\n",
       "      <th>1.705449e+12</th>\n",
       "      <th>234433</th>\n",
       "      <td>[hawkes, movingaverage, naive, oracle]</td>\n",
       "      <td>[0.683333333333333, 0.608333333333333, 0.61666...</td>\n",
       "    </tr>\n",
       "    <tr>\n",
       "      <th>1.705457e+12</th>\n",
       "      <th>003519</th>\n",
       "      <td>[hawkes, movingaverage, naive, oracle]</td>\n",
       "      <td>[0.3, 0.375, 0.35, 0.366666666666667]</td>\n",
       "    </tr>\n",
       "    <tr>\n",
       "      <th>1.705497e+12</th>\n",
       "      <th>123947</th>\n",
       "      <td>[hawkes, movingaverage, naive, oracle]</td>\n",
       "      <td>[0.516666666666667, 0.358333333333333, 0.61666...</td>\n",
       "    </tr>\n",
       "    <tr>\n",
       "      <th rowspan=\"2\" valign=\"top\">1.705505e+12</th>\n",
       "      <th>142341</th>\n",
       "      <td>[hawkes, movingaverage, naive, oracle]</td>\n",
       "      <td>[0.616666666666667, 0.616666666666667, 0.6, 0....</td>\n",
       "    </tr>\n",
       "    <tr>\n",
       "      <th>145915</th>\n",
       "      <td>[hawkes, movingaverage, naive, oracle]</td>\n",
       "      <td>[0.591666666666667, 0.525, 0.608333333333333, ...</td>\n",
       "    </tr>\n",
       "    <tr>\n",
       "      <th>1.705508e+12</th>\n",
       "      <th>155242</th>\n",
       "      <td>[hawkes, movingaverage, naive, oracle]</td>\n",
       "      <td>[0.616666666666667, 0.65, 0.6, 0.616666666666667]</td>\n",
       "    </tr>\n",
       "    <tr>\n",
       "      <th>1.705666e+12</th>\n",
       "      <th>091729</th>\n",
       "      <td>[hawkes, movingaverage, naive, oracle]</td>\n",
       "      <td>[0.658333333333333, 0.566666666666667, 0.60833...</td>\n",
       "    </tr>\n",
       "    <tr>\n",
       "      <th>1.705790e+12</th>\n",
       "      <th>210726</th>\n",
       "      <td>[hawkes, movingaverage, naive, oracle]</td>\n",
       "      <td>[0.641666666666667, 0.616666666666667, 0.65833...</td>\n",
       "    </tr>\n",
       "    <tr>\n",
       "      <th>1.705804e+12</th>\n",
       "      <th>014353</th>\n",
       "      <td>[hawkes, movingaverage, naive, oracle]</td>\n",
       "      <td>[0.575, 0.541666666666667, 0.558333333333333, ...</td>\n",
       "    </tr>\n",
       "    <tr>\n",
       "      <th rowspan=\"2\" valign=\"top\">1.705856e+12</th>\n",
       "      <th>153840</th>\n",
       "      <td>[hawkes, movingaverage, naive, oracle]</td>\n",
       "      <td>[0.583333333333333, 0.583333333333333, 0.61666...</td>\n",
       "    </tr>\n",
       "    <tr>\n",
       "      <th>164220</th>\n",
       "      <td>[hawkes, movingaverage, naive, oracle]</td>\n",
       "      <td>[0.5, 0.45, 0.516666666666667, 0.558333333333333]</td>\n",
       "    </tr>\n",
       "    <tr>\n",
       "      <th>1.705916e+12</th>\n",
       "      <th>090117</th>\n",
       "      <td>[hawkes, movingaverage, naive, oracle]</td>\n",
       "      <td>[0.608333333333333, 0.6, 0.65, 0.575]</td>\n",
       "    </tr>\n",
       "    <tr>\n",
       "      <th>1.705925e+12</th>\n",
       "      <th>102636</th>\n",
       "      <td>[hawkes, movingaverage, naive, oracle]</td>\n",
       "      <td>[0.533333333333333, 0.425, 0.416666666666667, ...</td>\n",
       "    </tr>\n",
       "    <tr>\n",
       "      <th>1.705930e+12</th>\n",
       "      <th>130939</th>\n",
       "      <td>[hawkes, movingaverage, naive, oracle]</td>\n",
       "      <td>[0.533333333333333, 0.458333333333333, 0.68333...</td>\n",
       "    </tr>\n",
       "    <tr>\n",
       "      <th rowspan=\"2\" valign=\"top\">1.705960e+12</th>\n",
       "      <th>202832</th>\n",
       "      <td>[hawkes, movingaverage, naive, oracle]</td>\n",
       "      <td>[0.6, 0.45, 0.391666666666667, 0.558333333333333]</td>\n",
       "    </tr>\n",
       "    <tr>\n",
       "      <th>214157</th>\n",
       "      <td>[hawkes, movingaverage, naive, oracle]</td>\n",
       "      <td>[0.675, 0.666666666666667, 0.641666666666667, ...</td>\n",
       "    </tr>\n",
       "    <tr>\n",
       "      <th>1.706027e+12</th>\n",
       "      <th>154315</th>\n",
       "      <td>[hawkes, movingaverage, naive, oracle]</td>\n",
       "      <td>[0.583333333333333, 0.55, 0.566666666666667, 0...</td>\n",
       "    </tr>\n",
       "    <tr>\n",
       "      <th>1.706035e+12</th>\n",
       "      <th>173320</th>\n",
       "      <td>[hawkes, movingaverage, naive, oracle]</td>\n",
       "      <td>[0.516666666666667, 0.483333333333333, 0.49166...</td>\n",
       "    </tr>\n",
       "    <tr>\n",
       "      <th rowspan=\"2\" valign=\"top\">1.706042e+12</th>\n",
       "      <th>194330</th>\n",
       "      <td>[hawkes, movingaverage, naive, oracle]</td>\n",
       "      <td>[0.591666666666667, 0.583333333333333, 0.58333...</td>\n",
       "    </tr>\n",
       "    <tr>\n",
       "      <th>202116</th>\n",
       "      <td>[hawkes, movingaverage, naive, oracle]</td>\n",
       "      <td>[0.716666666666667, 0.675, 0.691666666666667, ...</td>\n",
       "    </tr>\n",
       "    <tr>\n",
       "      <th rowspan=\"2\" valign=\"top\">1.706050e+12</th>\n",
       "      <th>211153</th>\n",
       "      <td>[hawkes, movingaverage, naive, oracle]</td>\n",
       "      <td>[0.583333333333333, 0.491666666666667, 0.53333...</td>\n",
       "    </tr>\n",
       "    <tr>\n",
       "      <th>215227</th>\n",
       "      <td>[hawkes, movingaverage, naive, oracle]</td>\n",
       "      <td>[0.541666666666667, 0.425, 0.408333333333333, ...</td>\n",
       "    </tr>\n",
       "    <tr>\n",
       "      <th>1.706056e+12</th>\n",
       "      <th>232826</th>\n",
       "      <td>[hawkes, movingaverage, naive, oracle]</td>\n",
       "      <td>[0.533333333333333, 0.6, 0.525, 0.5]</td>\n",
       "    </tr>\n",
       "    <tr>\n",
       "      <th>1.706063e+12</th>\n",
       "      <th>012051</th>\n",
       "      <td>[hawkes, movingaverage, naive, oracle]</td>\n",
       "      <td>[0.391666666666667, 0.4, 0.491666666666667, 0....</td>\n",
       "    </tr>\n",
       "    <tr>\n",
       "      <th rowspan=\"2\" valign=\"top\">1.706087e+12</th>\n",
       "      <th>073851</th>\n",
       "      <td>[hawkes, movingaverage, naive, oracle]</td>\n",
       "      <td>[0.308333333333333, 0.391666666666667, 0.28333...</td>\n",
       "    </tr>\n",
       "    <tr>\n",
       "      <th>081823</th>\n",
       "      <td>[hawkes, movingaverage, naive, oracle]</td>\n",
       "      <td>[0.658333333333333, 0.375, 0.625, 0.6333333333...</td>\n",
       "    </tr>\n",
       "    <tr>\n",
       "      <th rowspan=\"2\" valign=\"top\">1.706094e+12</th>\n",
       "      <th>095440</th>\n",
       "      <td>[hawkes, movingaverage, naive, oracle]</td>\n",
       "      <td>[0.391666666666667, 0.408333333333333, 0.31666...</td>\n",
       "    </tr>\n",
       "    <tr>\n",
       "      <th>104557</th>\n",
       "      <td>[hawkes, movingaverage, naive, oracle]</td>\n",
       "      <td>[0.316666666666667, 0.258333333333333, 0.325, ...</td>\n",
       "    </tr>\n",
       "    <tr>\n",
       "      <th rowspan=\"2\" valign=\"top\">1.706110e+12</th>\n",
       "      <th>141550</th>\n",
       "      <td>[hawkes, movingaverage, naive, oracle]</td>\n",
       "      <td>[0.658333333333333, 0.566666666666667, 0.65833...</td>\n",
       "    </tr>\n",
       "    <tr>\n",
       "      <th>150343</th>\n",
       "      <td>[hawkes, movingaverage, naive, oracle]</td>\n",
       "      <td>[0.241666666666667, 0.216666666666667, 0.26666...</td>\n",
       "    </tr>\n",
       "    <tr>\n",
       "      <th>1.706133e+12</th>\n",
       "      <th>205851</th>\n",
       "      <td>[hawkes, movingaverage, naive, oracle]</td>\n",
       "      <td>[0.25, 0.4, 0.3, 0.258333333333333]</td>\n",
       "    </tr>\n",
       "    <tr>\n",
       "      <th>1.706975e+12</th>\n",
       "      <th>151106</th>\n",
       "      <td>[hawkes, movingaverage, naive, oracle]</td>\n",
       "      <td>[0.725, 0.608333333333333, 0.658333333333333, ...</td>\n",
       "    </tr>\n",
       "    <tr>\n",
       "      <th>1.707169e+12</th>\n",
       "      <th>202235</th>\n",
       "      <td>[hawkes, movingaverage, naive, oracle]</td>\n",
       "      <td>[0.591666666666667, 0.541666666666667, 0.60833...</td>\n",
       "    </tr>\n",
       "    <tr>\n",
       "      <th>1.707228e+12</th>\n",
       "      <th>125518</th>\n",
       "      <td>[hawkes, movingaverage, naive, oracle]</td>\n",
       "      <td>[0.35, 0.4, 0.358333333333333, 0.391666666666667]</td>\n",
       "    </tr>\n",
       "    <tr>\n",
       "      <th>1.707235e+12</th>\n",
       "      <th>144903</th>\n",
       "      <td>[hawkes, movingaverage, naive, oracle]</td>\n",
       "      <td>[0.558333333333333, 0.633333333333333, 0.71666...</td>\n",
       "    </tr>\n",
       "    <tr>\n",
       "      <th rowspan=\"2\" valign=\"top\">1.707246e+12</th>\n",
       "      <th>163641</th>\n",
       "      <td>[hawkes, movingaverage, naive, oracle]</td>\n",
       "      <td>[0.366666666666667, 0.575, 0.308333333333333, ...</td>\n",
       "    </tr>\n",
       "    <tr>\n",
       "      <th>172354</th>\n",
       "      <td>[hawkes, movingaverage, naive, oracle]</td>\n",
       "      <td>[0.35, 0.425, 0.416666666666667, 0.63333333333...</td>\n",
       "    </tr>\n",
       "    <tr>\n",
       "      <th>1.707253e+12</th>\n",
       "      <th>195917</th>\n",
       "      <td>[hawkes, movingaverage, naive, oracle]</td>\n",
       "      <td>[0.675, 0.508333333333333, 0.591666666666667, ...</td>\n",
       "    </tr>\n",
       "  </tbody>\n",
       "</table>\n",
       "</div>"
      ],
      "text/plain": [
       "                                                method_time_prediction  \\\n",
       "timestamp    timestamp_density                                           \n",
       "1.705074e+12 151951             [hawkes, movingaverage, naive, oracle]   \n",
       "1.705077e+12 161544             [hawkes, movingaverage, naive, oracle]   \n",
       "1.705165e+12 163845             [hawkes, movingaverage, naive, oracle]   \n",
       "1.705168e+12 174206             [hawkes, movingaverage, naive, oracle]   \n",
       "1.705262e+12 193416             [hawkes, movingaverage, naive, oracle]   \n",
       "1.705269e+12 212428             [hawkes, movingaverage, naive, oracle]   \n",
       "1.705357e+12 220939             [hawkes, movingaverage, naive, oracle]   \n",
       "1.705365e+12 000334             [hawkes, movingaverage, naive, oracle]   \n",
       "             231506             [hawkes, movingaverage, naive, oracle]   \n",
       "1.705379e+12 032503             [hawkes, movingaverage, naive, oracle]   \n",
       "1.705442e+12 203957             [hawkes, movingaverage, naive, oracle]   \n",
       "             212215             [hawkes, movingaverage, naive, oracle]   \n",
       "1.705449e+12 234433             [hawkes, movingaverage, naive, oracle]   \n",
       "1.705457e+12 003519             [hawkes, movingaverage, naive, oracle]   \n",
       "1.705497e+12 123947             [hawkes, movingaverage, naive, oracle]   \n",
       "1.705505e+12 142341             [hawkes, movingaverage, naive, oracle]   \n",
       "             145915             [hawkes, movingaverage, naive, oracle]   \n",
       "1.705508e+12 155242             [hawkes, movingaverage, naive, oracle]   \n",
       "1.705666e+12 091729             [hawkes, movingaverage, naive, oracle]   \n",
       "1.705790e+12 210726             [hawkes, movingaverage, naive, oracle]   \n",
       "1.705804e+12 014353             [hawkes, movingaverage, naive, oracle]   \n",
       "1.705856e+12 153840             [hawkes, movingaverage, naive, oracle]   \n",
       "             164220             [hawkes, movingaverage, naive, oracle]   \n",
       "1.705916e+12 090117             [hawkes, movingaverage, naive, oracle]   \n",
       "1.705925e+12 102636             [hawkes, movingaverage, naive, oracle]   \n",
       "1.705930e+12 130939             [hawkes, movingaverage, naive, oracle]   \n",
       "1.705960e+12 202832             [hawkes, movingaverage, naive, oracle]   \n",
       "             214157             [hawkes, movingaverage, naive, oracle]   \n",
       "1.706027e+12 154315             [hawkes, movingaverage, naive, oracle]   \n",
       "1.706035e+12 173320             [hawkes, movingaverage, naive, oracle]   \n",
       "1.706042e+12 194330             [hawkes, movingaverage, naive, oracle]   \n",
       "             202116             [hawkes, movingaverage, naive, oracle]   \n",
       "1.706050e+12 211153             [hawkes, movingaverage, naive, oracle]   \n",
       "             215227             [hawkes, movingaverage, naive, oracle]   \n",
       "1.706056e+12 232826             [hawkes, movingaverage, naive, oracle]   \n",
       "1.706063e+12 012051             [hawkes, movingaverage, naive, oracle]   \n",
       "1.706087e+12 073851             [hawkes, movingaverage, naive, oracle]   \n",
       "             081823             [hawkes, movingaverage, naive, oracle]   \n",
       "1.706094e+12 095440             [hawkes, movingaverage, naive, oracle]   \n",
       "             104557             [hawkes, movingaverage, naive, oracle]   \n",
       "1.706110e+12 141550             [hawkes, movingaverage, naive, oracle]   \n",
       "             150343             [hawkes, movingaverage, naive, oracle]   \n",
       "1.706133e+12 205851             [hawkes, movingaverage, naive, oracle]   \n",
       "1.706975e+12 151106             [hawkes, movingaverage, naive, oracle]   \n",
       "1.707169e+12 202235             [hawkes, movingaverage, naive, oracle]   \n",
       "1.707228e+12 125518             [hawkes, movingaverage, naive, oracle]   \n",
       "1.707235e+12 144903             [hawkes, movingaverage, naive, oracle]   \n",
       "1.707246e+12 163641             [hawkes, movingaverage, naive, oracle]   \n",
       "             172354             [hawkes, movingaverage, naive, oracle]   \n",
       "1.707253e+12 195917             [hawkes, movingaverage, naive, oracle]   \n",
       "\n",
       "                                                                         accuracy  \n",
       "timestamp    timestamp_density                                                     \n",
       "1.705074e+12 151951             [0.558333333333333, 0.591666666666667, 0.64166...  \n",
       "1.705077e+12 161544                         [0.5, 0.466666666666667, 0.45, 0.475]  \n",
       "1.705165e+12 163845             [0.45, 0.441666666666667, 0.433333333333333, 0.5]  \n",
       "1.705168e+12 174206             [0.391666666666667, 0.541666666666667, 0.45833...  \n",
       "1.705262e+12 193416             [0.541666666666667, 0.575, 0.541666666666667, ...  \n",
       "1.705269e+12 212428             [0.608333333333333, 0.608333333333333, 0.50833...  \n",
       "1.705357e+12 220939             [0.658333333333333, 0.35, 0.641666666666667, 0...  \n",
       "1.705365e+12 000334                       [0.45, 0.625, 0.341666666666667, 0.625]  \n",
       "             231506             [0.741666666666667, 0.666666666666667, 0.70833...  \n",
       "1.705379e+12 032503             [0.583333333333333, 0.6, 0.525, 0.616666666666...  \n",
       "1.705442e+12 203957             [0.316666666666667, 0.275, 0.241666666666667, ...  \n",
       "             212215             [0.325, 0.441666666666667, 0.433333333333333, ...  \n",
       "1.705449e+12 234433             [0.683333333333333, 0.608333333333333, 0.61666...  \n",
       "1.705457e+12 003519                         [0.3, 0.375, 0.35, 0.366666666666667]  \n",
       "1.705497e+12 123947             [0.516666666666667, 0.358333333333333, 0.61666...  \n",
       "1.705505e+12 142341             [0.616666666666667, 0.616666666666667, 0.6, 0....  \n",
       "             145915             [0.591666666666667, 0.525, 0.608333333333333, ...  \n",
       "1.705508e+12 155242             [0.616666666666667, 0.65, 0.6, 0.616666666666667]  \n",
       "1.705666e+12 091729             [0.658333333333333, 0.566666666666667, 0.60833...  \n",
       "1.705790e+12 210726             [0.641666666666667, 0.616666666666667, 0.65833...  \n",
       "1.705804e+12 014353             [0.575, 0.541666666666667, 0.558333333333333, ...  \n",
       "1.705856e+12 153840             [0.583333333333333, 0.583333333333333, 0.61666...  \n",
       "             164220             [0.5, 0.45, 0.516666666666667, 0.558333333333333]  \n",
       "1.705916e+12 090117                         [0.608333333333333, 0.6, 0.65, 0.575]  \n",
       "1.705925e+12 102636             [0.533333333333333, 0.425, 0.416666666666667, ...  \n",
       "1.705930e+12 130939             [0.533333333333333, 0.458333333333333, 0.68333...  \n",
       "1.705960e+12 202832             [0.6, 0.45, 0.391666666666667, 0.558333333333333]  \n",
       "             214157             [0.675, 0.666666666666667, 0.641666666666667, ...  \n",
       "1.706027e+12 154315             [0.583333333333333, 0.55, 0.566666666666667, 0...  \n",
       "1.706035e+12 173320             [0.516666666666667, 0.483333333333333, 0.49166...  \n",
       "1.706042e+12 194330             [0.591666666666667, 0.583333333333333, 0.58333...  \n",
       "             202116             [0.716666666666667, 0.675, 0.691666666666667, ...  \n",
       "1.706050e+12 211153             [0.583333333333333, 0.491666666666667, 0.53333...  \n",
       "             215227             [0.541666666666667, 0.425, 0.408333333333333, ...  \n",
       "1.706056e+12 232826                          [0.533333333333333, 0.6, 0.525, 0.5]  \n",
       "1.706063e+12 012051             [0.391666666666667, 0.4, 0.491666666666667, 0....  \n",
       "1.706087e+12 073851             [0.308333333333333, 0.391666666666667, 0.28333...  \n",
       "             081823             [0.658333333333333, 0.375, 0.625, 0.6333333333...  \n",
       "1.706094e+12 095440             [0.391666666666667, 0.408333333333333, 0.31666...  \n",
       "             104557             [0.316666666666667, 0.258333333333333, 0.325, ...  \n",
       "1.706110e+12 141550             [0.658333333333333, 0.566666666666667, 0.65833...  \n",
       "             150343             [0.241666666666667, 0.216666666666667, 0.26666...  \n",
       "1.706133e+12 205851                           [0.25, 0.4, 0.3, 0.258333333333333]  \n",
       "1.706975e+12 151106             [0.725, 0.608333333333333, 0.658333333333333, ...  \n",
       "1.707169e+12 202235             [0.591666666666667, 0.541666666666667, 0.60833...  \n",
       "1.707228e+12 125518             [0.35, 0.4, 0.358333333333333, 0.391666666666667]  \n",
       "1.707235e+12 144903             [0.558333333333333, 0.633333333333333, 0.71666...  \n",
       "1.707246e+12 163641             [0.366666666666667, 0.575, 0.308333333333333, ...  \n",
       "             172354             [0.35, 0.425, 0.416666666666667, 0.63333333333...  \n",
       "1.707253e+12 195917             [0.675, 0.508333333333333, 0.591666666666667, ...  "
      ]
     },
     "execution_count": 24,
     "metadata": {},
     "output_type": "execute_result"
    }
   ],
   "source": [
    "densities_descriptions=plot_df.groupby(['timestamp', 'timestamp_density']).agg({'method_time_prediction': list, 'accuracy': list})\n",
    "densities_descriptions[densities_descriptions['method_time_prediction'].apply(lambda x: len(x) == 4)]"
   ]
  },
  {
   "cell_type": "code",
   "execution_count": null,
   "metadata": {},
   "outputs": [
    {
     "data": {
      "image/png": "[encoded data removed]",
      "text/plain": [
       "<Figure size 1152x720 with 1 Axes>"
      ]
     },
     "metadata": {
      "needs_background": "light"
     },
     "output_type": "display_data"
    }
   ],
   "source": [
    "plt.rcParams[\"figure.figsize\"] = (16,10)\n",
    "order = ['oracle', 'hawkes', 'movingaverage', 'naive']\n",
    "sns.boxplot(x='method_time_prediction', y='accuracy', data=plot_df, order=order, showmeans=True, meanline=True)\n",
    "#increase plot size\n",
    "plt.ylabel('Accuracy')\n",
    "plt.rcParams.update({'font.size': 18})\n",
    "# delete x label\n",
    "plt.xlabel('')\n",
    "# set x ticks labels\n",
    "plt.xticks([0, 1, 2, 3], ['Oracle', 'Hawkes', 'Moving Average', 'Naive'])\n",
    "plt.show()"
   ]
  },
  {
   "cell_type": "code",
   "execution_count": null,
   "metadata": {},
   "outputs": [
    {
     "data": {
      "image/png": "[encoded data removed]",
      "text/plain": [
       "<Figure size 1152x720 with 1 Axes>"
      ]
     },
     "metadata": {
      "needs_background": "light"
     },
     "output_type": "display_data"
    }
   ],
   "source": [
    "plt.rcParams[\"figure.figsize\"] = (16,10)\n",
    "order = ['oracle', 'hawkes', 'movingaverage', 'naive']\n",
    "sns.boxplot(x='method_time_prediction', y='returns', data=plot_df, order=order, showmeans=True, meanline=True)\n",
    "#increase plot size\n",
    "plt.rcParams.update({'font.size': 16})\n",
    "# delete x label\n",
    "plt.xlabel('')\n",
    "plt.ylabel('Returns')\n",
    "# set x ticks labels\n",
    "plt.xticks([0, 1, 2, 3], ['Oracle', 'Hawkes', 'Moving Average', 'Naive'])\n",
    "plt.show()"
   ]
  },
  {
   "cell_type": "code",
   "execution_count": null,
   "metadata": {},
   "outputs": [
    {
     "data": {
      "text/plain": [
       "hawkes           106\n",
       "movingaverage    106\n",
       "naive            106\n",
       "Name: method_time_prediction, dtype: int64"
      ]
     },
     "execution_count": 4,
     "metadata": {},
     "output_type": "execute_result"
    }
   ],
   "source": [
    "df['method_time_prediction'].value_counts()"
   ]
  },
  {
   "cell_type": "code",
   "execution_count": null,
   "metadata": {},
   "outputs": [],
   "source": [
    "import json\n",
    "with open('/home/davide/Desktop/phd/hawkes/data/1705862648312_173406_intensities.json') as f:\n",
    "    config = json.load(f)"
   ]
  },
  {
   "cell_type": "code",
   "execution_count": null,
   "metadata": {},
   "outputs": [
    {
     "data": {
      "text/plain": [
       "[<matplotlib.lines.Line2D at 0x7f6768a247c0>]"
      ]
     },
     "execution_count": 5,
     "metadata": {},
     "output_type": "execute_result"
    },
    {
     "data": {
      "image/png": "[encoded data removed]",
      "text/plain": [
       "<Figure size 1152x720 with 1 Axes>"
      ]
     },
     "metadata": {
      "needs_background": "light"
     },
     "output_type": "display_data"
    }
   ],
   "source": [
    "import matplotlib.pyplot as plt\n",
    "\n",
    "# boxpot of intensities\n",
    "plt.rcParams[\"figure.figsize\"] = (16,10)\n",
    "plt.plot(config)"
   ]
  },
  {
   "cell_type": "code",
   "execution_count": null,
   "metadata": {},
   "outputs": [
    {
     "data": {
      "text/html": [
       "<div>\n",
       "<style scoped>\n",
       "    .dataframe tbody tr th:only-of-type {\n",
       "        vertical-align: middle;\n",
       "    }\n",
       "\n",
       "    .dataframe tbody tr th {\n",
       "        vertical-align: top;\n",
       "    }\n",
       "\n",
       "    .dataframe thead th {\n",
       "        text-align: right;\n",
       "    }\n",
       "</style>\n",
       "<table border=\"1\" class=\"dataframe\">\n",
       "  <thead>\n",
       "    <tr style=\"text-align: right;\">\n",
       "      <th></th>\n",
       "      <th>timestamp</th>\n",
       "      <th>timestamp_density</th>\n",
       "      <th>method_time_prediction</th>\n",
       "      <th>bi_level</th>\n",
       "      <th>accuracy</th>\n",
       "      <th>returns</th>\n",
       "      <th>training_minutes</th>\n",
       "    </tr>\n",
       "  </thead>\n",
       "  <tbody>\n",
       "    <tr>\n",
       "      <th>0</th>\n",
       "      <td>1.705074e+12</td>\n",
       "      <td>151951.0</td>\n",
       "      <td>hawkes</td>\n",
       "      <td>8</td>\n",
       "      <td>0.558333</td>\n",
       "      <td>21.803475</td>\n",
       "      <td>090</td>\n",
       "    </tr>\n",
       "    <tr>\n",
       "      <th>4</th>\n",
       "      <td>1.705077e+12</td>\n",
       "      <td>161544.0</td>\n",
       "      <td>hawkes</td>\n",
       "      <td>8</td>\n",
       "      <td>0.500000</td>\n",
       "      <td>3.162698</td>\n",
       "      <td>090</td>\n",
       "    </tr>\n",
       "    <tr>\n",
       "      <th>8</th>\n",
       "      <td>1.705165e+12</td>\n",
       "      <td>163845.0</td>\n",
       "      <td>hawkes</td>\n",
       "      <td>8</td>\n",
       "      <td>0.450000</td>\n",
       "      <td>-32.987553</td>\n",
       "      <td>090</td>\n",
       "    </tr>\n",
       "    <tr>\n",
       "      <th>12</th>\n",
       "      <td>1.705168e+12</td>\n",
       "      <td>174206.0</td>\n",
       "      <td>hawkes</td>\n",
       "      <td>8</td>\n",
       "      <td>0.391667</td>\n",
       "      <td>-68.318177</td>\n",
       "      <td>090</td>\n",
       "    </tr>\n",
       "    <tr>\n",
       "      <th>16</th>\n",
       "      <td>1.705172e+12</td>\n",
       "      <td>182523.0</td>\n",
       "      <td>hawkes</td>\n",
       "      <td>8</td>\n",
       "      <td>0.525000</td>\n",
       "      <td>-8.542695</td>\n",
       "      <td>090</td>\n",
       "    </tr>\n",
       "  </tbody>\n",
       "</table>\n",
       "</div>"
      ],
      "text/plain": [
       "       timestamp  timestamp_density method_time_prediction  bi_level  \\\n",
       "0   1.705074e+12           151951.0                 hawkes         8   \n",
       "4   1.705077e+12           161544.0                 hawkes         8   \n",
       "8   1.705165e+12           163845.0                 hawkes         8   \n",
       "12  1.705168e+12           174206.0                 hawkes         8   \n",
       "16  1.705172e+12           182523.0                 hawkes         8   \n",
       "\n",
       "    accuracy    returns training_minutes  \n",
       "0   0.558333  21.803475              090  \n",
       "4   0.500000   3.162698              090  \n",
       "8   0.450000 -32.987553              090  \n",
       "12  0.391667 -68.318177              090  \n",
       "16  0.525000  -8.542695              090  "
      ]
     },
     "execution_count": 7,
     "metadata": {},
     "output_type": "execute_result"
    }
   ],
   "source": [
    "import os\n",
    "\n",
    "result_file_paths = [\n",
    "    (i, f\"/home/davide/Desktop/phd/hawkes/data_{i}min_training/results_all_{i}min_BI8.tsv\") for i in ['090',2,5,10,15,20]\n",
    "]\n",
    "\n",
    "dfs = []\n",
    "for i, result_file_path in result_file_paths:\n",
    "    df = pd.read_csv(result_file_path, sep='\\t')\n",
    "    df['training_minutes'] = i\n",
    "    df = df[df['method_time_prediction'] == 'hawkes']\n",
    "    dfs.append(df)\n",
    "\n",
    "df = pd.concat(dfs)\n",
    "df.head()"
   ]
  },
  {
   "cell_type": "code",
   "execution_count": null,
   "metadata": {},
   "outputs": [
    {
     "data": {
      "text/html": [
       "<div>\n",
       "<style scoped>\n",
       "    .dataframe tbody tr th:only-of-type {\n",
       "        vertical-align: middle;\n",
       "    }\n",
       "\n",
       "    .dataframe tbody tr th {\n",
       "        vertical-align: top;\n",
       "    }\n",
       "\n",
       "    .dataframe thead th {\n",
       "        text-align: right;\n",
       "    }\n",
       "</style>\n",
       "<table border=\"1\" class=\"dataframe\">\n",
       "  <thead>\n",
       "    <tr style=\"text-align: right;\">\n",
       "      <th></th>\n",
       "      <th>training_minutes</th>\n",
       "      <th>accuracy</th>\n",
       "    </tr>\n",
       "  </thead>\n",
       "  <tbody>\n",
       "    <tr>\n",
       "      <th>0</th>\n",
       "      <td>15</td>\n",
       "      <td>0.558333</td>\n",
       "    </tr>\n",
       "    <tr>\n",
       "      <th>4</th>\n",
       "      <td>15</td>\n",
       "      <td>0.475000</td>\n",
       "    </tr>\n",
       "    <tr>\n",
       "      <th>8</th>\n",
       "      <td>15</td>\n",
       "      <td>0.425000</td>\n",
       "    </tr>\n",
       "    <tr>\n",
       "      <th>12</th>\n",
       "      <td>15</td>\n",
       "      <td>0.425000</td>\n",
       "    </tr>\n",
       "    <tr>\n",
       "      <th>16</th>\n",
       "      <td>15</td>\n",
       "      <td>0.625000</td>\n",
       "    </tr>\n",
       "    <tr>\n",
       "      <th>...</th>\n",
       "      <td>...</td>\n",
       "      <td>...</td>\n",
       "    </tr>\n",
       "    <tr>\n",
       "      <th>424</th>\n",
       "      <td>15</td>\n",
       "      <td>0.333333</td>\n",
       "    </tr>\n",
       "    <tr>\n",
       "      <th>428</th>\n",
       "      <td>15</td>\n",
       "      <td>0.350000</td>\n",
       "    </tr>\n",
       "    <tr>\n",
       "      <th>436</th>\n",
       "      <td>15</td>\n",
       "      <td>0.583333</td>\n",
       "    </tr>\n",
       "    <tr>\n",
       "      <th>440</th>\n",
       "      <td>15</td>\n",
       "      <td>0.258333</td>\n",
       "    </tr>\n",
       "    <tr>\n",
       "      <th>444</th>\n",
       "      <td>15</td>\n",
       "      <td>0.783333</td>\n",
       "    </tr>\n",
       "  </tbody>\n",
       "</table>\n",
       "<p>106 rows × 2 columns</p>\n",
       "</div>"
      ],
      "text/plain": [
       "    training_minutes  accuracy\n",
       "0                 15  0.558333\n",
       "4                 15  0.475000\n",
       "8                 15  0.425000\n",
       "12                15  0.425000\n",
       "16                15  0.625000\n",
       "..               ...       ...\n",
       "424               15  0.333333\n",
       "428               15  0.350000\n",
       "436               15  0.583333\n",
       "440               15  0.258333\n",
       "444               15  0.783333\n",
       "\n",
       "[106 rows x 2 columns]"
      ]
     },
     "execution_count": 16,
     "metadata": {},
     "output_type": "execute_result"
    }
   ],
   "source": [
    "df[df['training_minutes'] == 15]"
   ]
  },
  {
   "cell_type": "code",
   "execution_count": null,
   "metadata": {},
   "outputs": [
    {
     "name": "stderr",
     "output_type": "stream",
     "text": [
      "/tmp/ipykernel_20234/3992472598.py:27: SettingWithCopyWarning: \n",
      "A value is trying to be set on a copy of a slice from a DataFrame.\n",
      "Try using .loc[row_indexer,col_indexer] = value instead\n",
      "\n",
      "See the caveats in the documentation: https://pandas.pydata.org/pandas-docs/stable/user_guide/indexing.html#returning-a-view-versus-a-copy\n",
      "  best_df['timestamp'] = best_df['timestamp'].apply(lambda x: int(x))\n"
     ]
    }
   ],
   "source": [
    "# read json\n",
    "import json\n",
    "with open('/home/davide/Desktop/phd/hawkes/data/file_densities_map.json') as f:\n",
    "    config = json.load(f)\n",
    "\n",
    "\n",
    "df_map = {\n",
    "    'timestamp': [],\n",
    "    'timestamp_density': [],\n",
    "    'density': [],\n",
    "}\n",
    "\n",
    "for k, v in config.items():\n",
    "    num_densities = len(v)\n",
    "    timestamp = k.split('_')[2].split('.')[0]\n",
    "    df_map['timestamp'].extend([float(timestamp)] * num_densities)\n",
    "\n",
    "    for info_density in v:\n",
    "        df_map['timestamp_density'].append(pd.Timestamp(info_density[0]).strftime('%H%M%S'))\n",
    "        df_map['density'].append(int(info_density[1]))\n",
    "\n",
    "df_map = pd.DataFrame(df_map)\n",
    "df_map.sort_values(by=['density'], inplace=True, ascending=False)\n",
    "\n",
    "best_df = df_map.iloc[0:67]\n",
    "best_df.head()\n",
    "best_df['timestamp'] = best_df['timestamp'].apply(lambda x: int(x))\n",
    "df['timestamp_density'] = df['timestamp_density'].apply(lambda x: '000000' if np.isnan(x) else str(int(x)))\n",
    "df['timestamp_density'] = df['timestamp_density'].str.pad(6, side='left', fillchar='0')\n",
    "plot_df = df[df['timestamp'].isin(best_df['timestamp']) & (df['timestamp_density'].isin(best_df['timestamp_density']))]\n"
   ]
  },
  {
   "cell_type": "code",
   "execution_count": null,
   "metadata": {},
   "outputs": [
    {
     "data": {
      "text/plain": [
       "15     64\n",
       "20     64\n",
       "090    62\n",
       "5      53\n",
       "10     53\n",
       "2      52\n",
       "Name: training_minutes, dtype: int64"
      ]
     },
     "execution_count": 10,
     "metadata": {},
     "output_type": "execute_result"
    }
   ],
   "source": [
    "plot_df['training_minutes'].value_counts()"
   ]
  },
  {
   "cell_type": "code",
   "execution_count": null,
   "metadata": {},
   "outputs": [
    {
     "data": {
      "image/png": "[encoded data removed]",
      "text/plain": [
       "<Figure size 1152x720 with 1 Axes>"
      ]
     },
     "metadata": {},
     "output_type": "display_data"
    }
   ],
   "source": [
    "# boxplot\n",
    "plt.rcParams[\"figure.figsize\"] = (16,10)\n",
    "sns.boxplot(x='training_minutes', y='accuracy', data=plot_df,showmeans=True, meanline=True)\n",
    "# increase font size\n",
    "#increase plot size\n",
    "plt.rcParams.update({'font.size': 18})\n",
    "\n",
    "plt.xlabel('Hawkes training minutes')\n",
    "plt.ylabel('Accuracy')\n",
    "#put white background\n",
    "sns.set_style(\"whitegrid\")"
   ]
  },
  {
   "cell_type": "code",
   "execution_count": null,
   "metadata": {},
   "outputs": [
    {
     "data": {
      "image/png": "[encoded data removed]",
      "text/plain": [
       "<Figure size 1152x720 with 1 Axes>"
      ]
     },
     "metadata": {},
     "output_type": "display_data"
    }
   ],
   "source": [
    "# boxplot\n",
    "plt.rcParams[\"figure.figsize\"] = (16,10)\n",
    "sns.boxplot(x='training_minutes', y='accuracy', data=df,showmeans=True, meanline=True)\n",
    "# increase font size\n",
    "#increase plot size\n",
    "plt.xlabel('Hawkes training minutes')\n",
    "plt.ylabel('Accuracy')\n",
    "#put white background\n",
    "sns.set_style(\"whitegrid\")"
   ]
  },
  {
   "cell_type": "code",
   "execution_count": null,
   "metadata": {},
   "outputs": [],
   "source": [
    "import numpy as np\n",
    "\n",
    "events = np.array([1, 2, 3, 4, 5, 15, 25, 30])"
   ]
  },
  {
   "cell_type": "code",
   "execution_count": null,
   "metadata": {},
   "outputs": [],
   "source": [
    "def get_logarithmic_distanced_events(events: np.array, offset: int = 0) -> np.array:\n",
    "    logarithmic_distanced_events = np.zeros(len(events))\n",
    "    logarithmic_distanced_events[0] = events[0]\n",
    "\n",
    "    for i in range(1,len(events)):\n",
    "        logarithmic_distance = np.log10(events[i] - events[i-1]) + offset\n",
    "        logarithmic_distanced_events[i] = logarithmic_distance + logarithmic_distanced_events[i-1]\n",
    "\n",
    "    return logarithmic_distanced_events"
   ]
  },
  {
   "cell_type": "code",
   "execution_count": null,
   "metadata": {},
   "outputs": [
    {
     "data": {
      "text/plain": [
       "array([ 1.     ,  5.     ,  9.     , 13.     , 17.     , 22.     ,\n",
       "       27.     , 31.69897])"
      ]
     },
     "execution_count": 3,
     "metadata": {},
     "output_type": "execute_result"
    }
   ],
   "source": [
    "a = get_logarithmic_distanced_events(events, 4)\n",
    "a"
   ]
  },
  {
   "cell_type": "code",
   "execution_count": null,
   "metadata": {},
   "outputs": [],
   "source": [
    "def get_reconverted_distanced_events(events: np.array, starting_time: float, offset: int = 0) -> np.array:\n",
    "    reconverted_events = np.zeros(len(events))\n",
    "    reconverted_events[0] = starting_time\n",
    "\n",
    "    for i in range(1,len(events)):\n",
    "        reconverted_events[i] = 10 ** (events[i] - events[i-1] - offset) + reconverted_events[i-1]\n",
    "\n",
    "    return reconverted_events"
   ]
  },
  {
   "cell_type": "code",
   "execution_count": null,
   "metadata": {},
   "outputs": [
    {
     "data": {
      "text/plain": [
       "array([ 1.,  2.,  3.,  4.,  5., 15., 25., 30.])"
      ]
     },
     "execution_count": 35,
     "metadata": {},
     "output_type": "execute_result"
    }
   ],
   "source": [
    "get_reconverted_distanced_events(a, 1, 4)"
   ]
  },
  {
   "cell_type": "code",
   "execution_count": null,
   "metadata": {},
   "outputs": [],
   "source": []
  }
 ],
 "metadata": {
  "kernelspec": {
   "display_name": "scanpy",
   "language": "python",
   "name": "python3"
  },
  "language_info": {
   "codemirror_mode": {
    "name": "ipython",
    "version": 3
   },
   "file_extension": ".py",
   "mimetype": "text/x-python",
   "name": "python",
   "nbconvert_exporter": "python",
   "pygments_lexer": "ipython3",
   "version": "3.8.0"
  }
 },
 "nbformat": 4,
 "nbformat_minor": 2
}
