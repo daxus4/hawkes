{
 "cells": [
  {
   "cell_type": "code",
   "execution_count": 2,
   "metadata": {},
   "outputs": [],
   "source": [
    "import pandas as pd\n",
    "import matplotlib.pyplot as plt\n",
    "import seaborn as sns\n",
    "import numpy as np"
   ]
  },
  {
   "cell_type": "code",
   "execution_count": 36,
   "metadata": {},
   "outputs": [],
   "source": [
    "df = pd.read_csv('/home/davide/Desktop/phd/hawkes/data_090min_training/results_all_not_oracle_090min_BI8.tsv', sep='\\t')\n",
    "df.sort_values(by=['timestamp', 'timestamp_density'], inplace=True)\n",
    "df.dropna(inplace=True)"
   ]
  },
  {
   "cell_type": "code",
   "execution_count": 37,
   "metadata": {},
   "outputs": [
    {
     "data": {
      "text/plain": [
       "movingaverage    103\n",
       "oracle           101\n",
       "hawkes           100\n",
       "naive             95\n",
       "Name: method_time_prediction, dtype: int64"
      ]
     },
     "execution_count": 37,
     "metadata": {},
     "output_type": "execute_result"
    }
   ],
   "source": [
    "df['method_time_prediction'].value_counts()"
   ]
  },
  {
   "cell_type": "code",
   "execution_count": 38,
   "metadata": {},
   "outputs": [
    {
     "name": "stderr",
     "output_type": "stream",
     "text": [
      "/tmp/ipykernel_4729/52250657.py:28: SettingWithCopyWarning: \n",
      "A value is trying to be set on a copy of a slice from a DataFrame.\n",
      "Try using .loc[row_indexer,col_indexer] = value instead\n",
      "\n",
      "See the caveats in the documentation: https://pandas.pydata.org/pandas-docs/stable/user_guide/indexing.html#returning-a-view-versus-a-copy\n",
      "  best_df['timestamp'] = best_df['timestamp'].apply(lambda x: int(x))\n",
      "/tmp/ipykernel_4729/52250657.py:33: SettingWithCopyWarning: \n",
      "A value is trying to be set on a copy of a slice from a DataFrame.\n",
      "Try using .loc[row_indexer,col_indexer] = value instead\n",
      "\n",
      "See the caveats in the documentation: https://pandas.pydata.org/pandas-docs/stable/user_guide/indexing.html#returning-a-view-versus-a-copy\n",
      "  best_df['timestamp'] = best_df['timestamp'].apply(lambda x: int(x))\n"
     ]
    }
   ],
   "source": [
    "# read json\n",
    "import json\n",
    "with open('/home/davide/Desktop/phd/hawkes/data/file_densities_map.json') as f:\n",
    "    config = json.load(f)\n",
    "\n",
    "config\n",
    "df_map = {\n",
    "    'timestamp': [],\n",
    "    'timestamp_density': [],\n",
    "    'density': [],\n",
    "}\n",
    "\n",
    "for k, v in config.items():\n",
    "    num_densities = len(v)\n",
    "    timestamp = k.split('_')[2].split('.')[0]\n",
    "    df_map['timestamp'].extend([float(timestamp)] * num_densities)\n",
    "\n",
    "    for info_density in v:\n",
    "        pd.Timestamp(info_density[0])\n",
    "        df_map['timestamp_density'].append(pd.Timestamp(info_density[0]).strftime('%H%M%S'))\n",
    "        df_map['density'].append(int(info_density[1]))\n",
    "\n",
    "df_map = pd.DataFrame(df_map)\n",
    "df_map.sort_values(by=['density'], inplace=True, ascending=False)\n",
    "\n",
    "best_df = df_map.iloc[0:60]\n",
    "best_df.head()\n",
    "best_df['timestamp'] = best_df['timestamp'].apply(lambda x: int(x))\n",
    "df['timestamp_density'] = df['timestamp_density'].apply(lambda x: '000000' if np.isnan(x) else str(int(x)))\n",
    "df['timestamp_density'] = df['timestamp_density'].str.pad(6, side='left', fillchar='0')\n",
    "plot_df = df[df['timestamp'].isin(best_df['timestamp']) & (df['timestamp_density'].isin(best_df['timestamp_density']))]\n",
    "\n",
    "best_df['timestamp'] = best_df['timestamp'].apply(lambda x: int(x))\n",
    "#best_df.to_csv('/home/davide/Desktop/phd/hawkes/data/best_densities.csv', index=False)\n"
   ]
  },
  {
   "cell_type": "code",
   "execution_count": 23,
   "metadata": {},
   "outputs": [
    {
     "data": {
      "text/plain": [
       "0     1.705074e+12\n",
       "1     1.705074e+12\n",
       "2     1.705074e+12\n",
       "3     1.705074e+12\n",
       "4     1.705077e+12\n",
       "          ...     \n",
       "52    1.706094e+12\n",
       "53    1.706094e+12\n",
       "54    1.706103e+12\n",
       "55    1.706110e+12\n",
       "56    1.706110e+12\n",
       "Name: timestamp, Length: 505, dtype: float64"
      ]
     },
     "execution_count": 23,
     "metadata": {},
     "output_type": "execute_result"
    }
   ],
   "source": [
    "df['timestamp']\n"
   ]
  },
  {
   "cell_type": "code",
   "execution_count": 29,
   "metadata": {},
   "outputs": [
    {
     "data": {
      "text/plain": [
       "oracle           57\n",
       "hawkes           54\n",
       "movingaverage    54\n",
       "naive            51\n",
       "Name: method_time_prediction, dtype: int64"
      ]
     },
     "execution_count": 29,
     "metadata": {},
     "output_type": "execute_result"
    }
   ],
   "source": [
    "plot_df['method_time_prediction'].value_counts()"
   ]
  },
  {
   "cell_type": "code",
   "execution_count": 28,
   "metadata": {},
   "outputs": [],
   "source": [
    "df['timestamp_density'] = df['timestamp_density'].apply(lambda x: '000000' if np.isnan(x) else str(int(x)))\n",
    "df['timestamp_density'] = df['timestamp_density'].str.pad(6, side='left', fillchar='0')"
   ]
  },
  {
   "cell_type": "code",
   "execution_count": 69,
   "metadata": {},
   "outputs": [
    {
     "data": {
      "text/plain": [
       "0      151951\n",
       "1      151951\n",
       "2      151951\n",
       "3      161544\n",
       "4      161544\n",
       "        ...  \n",
       "205    000000\n",
       "206    000000\n",
       "219    000000\n",
       "220    000000\n",
       "221    000000\n",
       "Name: timestamp_density, Length: 336, dtype: object"
      ]
     },
     "execution_count": 69,
     "metadata": {},
     "output_type": "execute_result"
    }
   ],
   "source": [
    "df['timestamp_density']"
   ]
  },
  {
   "cell_type": "code",
   "execution_count": 13,
   "metadata": {},
   "outputs": [],
   "source": [
    "plot_df[plot_df['method_time_prediction'] == 'oracle'].to_csv('/home/davide/Desktop/phd/hawkes/data_oracle/oracle_results_BI8.csv', index=False)"
   ]
  },
  {
   "cell_type": "code",
   "execution_count": 22,
   "metadata": {},
   "outputs": [
    {
     "data": {
      "text/html": [
       "<div>\n",
       "<style scoped>\n",
       "    .dataframe tbody tr th:only-of-type {\n",
       "        vertical-align: middle;\n",
       "    }\n",
       "\n",
       "    .dataframe tbody tr th {\n",
       "        vertical-align: top;\n",
       "    }\n",
       "\n",
       "    .dataframe thead th {\n",
       "        text-align: right;\n",
       "    }\n",
       "</style>\n",
       "<table border=\"1\" class=\"dataframe\">\n",
       "  <thead>\n",
       "    <tr style=\"text-align: right;\">\n",
       "      <th></th>\n",
       "      <th>timestamp</th>\n",
       "      <th>timestamp_density</th>\n",
       "      <th>method_time_prediction</th>\n",
       "      <th>bi_level</th>\n",
       "      <th>accuracy</th>\n",
       "      <th>returns</th>\n",
       "    </tr>\n",
       "  </thead>\n",
       "  <tbody>\n",
       "    <tr>\n",
       "      <th>0</th>\n",
       "      <td>1.705074e+12</td>\n",
       "      <td>151951</td>\n",
       "      <td>hawkes</td>\n",
       "      <td>8</td>\n",
       "      <td>0.558333</td>\n",
       "      <td>21.803475</td>\n",
       "    </tr>\n",
       "    <tr>\n",
       "      <th>1</th>\n",
       "      <td>1.705074e+12</td>\n",
       "      <td>151951</td>\n",
       "      <td>movingaverage</td>\n",
       "      <td>8</td>\n",
       "      <td>0.591667</td>\n",
       "      <td>24.333566</td>\n",
       "    </tr>\n",
       "    <tr>\n",
       "      <th>2</th>\n",
       "      <td>1.705074e+12</td>\n",
       "      <td>151951</td>\n",
       "      <td>naive</td>\n",
       "      <td>8</td>\n",
       "      <td>0.641667</td>\n",
       "      <td>31.578673</td>\n",
       "    </tr>\n",
       "    <tr>\n",
       "      <th>3</th>\n",
       "      <td>1.705074e+12</td>\n",
       "      <td>151951</td>\n",
       "      <td>oracle</td>\n",
       "      <td>8</td>\n",
       "      <td>0.591667</td>\n",
       "      <td>25.023135</td>\n",
       "    </tr>\n",
       "    <tr>\n",
       "      <th>4</th>\n",
       "      <td>1.705077e+12</td>\n",
       "      <td>161544</td>\n",
       "      <td>hawkes</td>\n",
       "      <td>8</td>\n",
       "      <td>0.475000</td>\n",
       "      <td>-34.410177</td>\n",
       "    </tr>\n",
       "    <tr>\n",
       "      <th>...</th>\n",
       "      <td>...</td>\n",
       "      <td>...</td>\n",
       "      <td>...</td>\n",
       "      <td>...</td>\n",
       "      <td>...</td>\n",
       "      <td>...</td>\n",
       "    </tr>\n",
       "    <tr>\n",
       "      <th>439</th>\n",
       "      <td>1.706110e+12</td>\n",
       "      <td>141550</td>\n",
       "      <td>oracle</td>\n",
       "      <td>8</td>\n",
       "      <td>0.633333</td>\n",
       "      <td>11.899703</td>\n",
       "    </tr>\n",
       "    <tr>\n",
       "      <th>440</th>\n",
       "      <td>1.706110e+12</td>\n",
       "      <td>150343</td>\n",
       "      <td>hawkes</td>\n",
       "      <td>8</td>\n",
       "      <td>0.258333</td>\n",
       "      <td>-39.664835</td>\n",
       "    </tr>\n",
       "    <tr>\n",
       "      <th>441</th>\n",
       "      <td>1.706110e+12</td>\n",
       "      <td>150343</td>\n",
       "      <td>movingaverage</td>\n",
       "      <td>8</td>\n",
       "      <td>0.216667</td>\n",
       "      <td>-42.400184</td>\n",
       "    </tr>\n",
       "    <tr>\n",
       "      <th>442</th>\n",
       "      <td>1.706110e+12</td>\n",
       "      <td>150343</td>\n",
       "      <td>naive</td>\n",
       "      <td>8</td>\n",
       "      <td>0.266667</td>\n",
       "      <td>-41.289841</td>\n",
       "    </tr>\n",
       "    <tr>\n",
       "      <th>443</th>\n",
       "      <td>1.706110e+12</td>\n",
       "      <td>150343</td>\n",
       "      <td>oracle</td>\n",
       "      <td>8</td>\n",
       "      <td>0.275000</td>\n",
       "      <td>-36.414945</td>\n",
       "    </tr>\n",
       "  </tbody>\n",
       "</table>\n",
       "<p>224 rows × 6 columns</p>\n",
       "</div>"
      ],
      "text/plain": [
       "        timestamp timestamp_density method_time_prediction  bi_level  \\\n",
       "0    1.705074e+12            151951                 hawkes         8   \n",
       "1    1.705074e+12            151951          movingaverage         8   \n",
       "2    1.705074e+12            151951                  naive         8   \n",
       "3    1.705074e+12            151951                 oracle         8   \n",
       "4    1.705077e+12            161544                 hawkes         8   \n",
       "..            ...               ...                    ...       ...   \n",
       "439  1.706110e+12            141550                 oracle         8   \n",
       "440  1.706110e+12            150343                 hawkes         8   \n",
       "441  1.706110e+12            150343          movingaverage         8   \n",
       "442  1.706110e+12            150343                  naive         8   \n",
       "443  1.706110e+12            150343                 oracle         8   \n",
       "\n",
       "     accuracy    returns  \n",
       "0    0.558333  21.803475  \n",
       "1    0.591667  24.333566  \n",
       "2    0.641667  31.578673  \n",
       "3    0.591667  25.023135  \n",
       "4    0.475000 -34.410177  \n",
       "..        ...        ...  \n",
       "439  0.633333  11.899703  \n",
       "440  0.258333 -39.664835  \n",
       "441  0.216667 -42.400184  \n",
       "442  0.266667 -41.289841  \n",
       "443  0.275000 -36.414945  \n",
       "\n",
       "[224 rows x 6 columns]"
      ]
     },
     "execution_count": 22,
     "metadata": {},
     "output_type": "execute_result"
    }
   ],
   "source": [
    "plot_df"
   ]
  },
  {
   "cell_type": "code",
   "execution_count": 30,
   "metadata": {},
   "outputs": [
    {
     "data": {
      "text/html": [
       "<div>\n",
       "<style scoped>\n",
       "    .dataframe tbody tr th:only-of-type {\n",
       "        vertical-align: middle;\n",
       "    }\n",
       "\n",
       "    .dataframe tbody tr th {\n",
       "        vertical-align: top;\n",
       "    }\n",
       "\n",
       "    .dataframe thead th {\n",
       "        text-align: right;\n",
       "    }\n",
       "</style>\n",
       "<table border=\"1\" class=\"dataframe\">\n",
       "  <thead>\n",
       "    <tr style=\"text-align: right;\">\n",
       "      <th></th>\n",
       "      <th>timestamp</th>\n",
       "      <th>timestamp_density</th>\n",
       "      <th>method_time_prediction</th>\n",
       "      <th>bi_level</th>\n",
       "      <th>accuracy</th>\n",
       "      <th>returns</th>\n",
       "    </tr>\n",
       "  </thead>\n",
       "  <tbody>\n",
       "    <tr>\n",
       "      <th>7</th>\n",
       "      <td>1705272255894</td>\n",
       "      <td>223115</td>\n",
       "      <td>2</td>\n",
       "      <td>2</td>\n",
       "      <td>2</td>\n",
       "      <td>2</td>\n",
       "    </tr>\n",
       "    <tr>\n",
       "      <th>8</th>\n",
       "      <td>1705356920082</td>\n",
       "      <td>212314</td>\n",
       "      <td>3</td>\n",
       "      <td>3</td>\n",
       "      <td>3</td>\n",
       "      <td>3</td>\n",
       "    </tr>\n",
       "    <tr>\n",
       "      <th>19</th>\n",
       "      <td>1705486157408</td>\n",
       "      <td>100410</td>\n",
       "      <td>3</td>\n",
       "      <td>3</td>\n",
       "      <td>3</td>\n",
       "      <td>3</td>\n",
       "    </tr>\n",
       "    <tr>\n",
       "      <th>20</th>\n",
       "      <td>1705489579996</td>\n",
       "      <td>104953</td>\n",
       "      <td>3</td>\n",
       "      <td>3</td>\n",
       "      <td>3</td>\n",
       "      <td>3</td>\n",
       "    </tr>\n",
       "    <tr>\n",
       "      <th>21</th>\n",
       "      <td>1705496790339</td>\n",
       "      <td>123947</td>\n",
       "      <td>3</td>\n",
       "      <td>3</td>\n",
       "      <td>3</td>\n",
       "      <td>3</td>\n",
       "    </tr>\n",
       "    <tr>\n",
       "      <th>28</th>\n",
       "      <td>1705789717468</td>\n",
       "      <td>215024</td>\n",
       "      <td>2</td>\n",
       "      <td>2</td>\n",
       "      <td>2</td>\n",
       "      <td>2</td>\n",
       "    </tr>\n",
       "    <tr>\n",
       "      <th>34</th>\n",
       "      <td>1705869651281</td>\n",
       "      <td>202209</td>\n",
       "      <td>1</td>\n",
       "      <td>1</td>\n",
       "      <td>1</td>\n",
       "      <td>1</td>\n",
       "    </tr>\n",
       "    <tr>\n",
       "      <th>37</th>\n",
       "      <td>1705925395390</td>\n",
       "      <td>102636</td>\n",
       "      <td>3</td>\n",
       "      <td>3</td>\n",
       "      <td>3</td>\n",
       "      <td>3</td>\n",
       "    </tr>\n",
       "    <tr>\n",
       "      <th>40</th>\n",
       "      <td>1705960026847</td>\n",
       "      <td>210500</td>\n",
       "      <td>2</td>\n",
       "      <td>2</td>\n",
       "      <td>2</td>\n",
       "      <td>2</td>\n",
       "    </tr>\n",
       "    <tr>\n",
       "      <th>55</th>\n",
       "      <td>1706102874539</td>\n",
       "      <td>131727</td>\n",
       "      <td>2</td>\n",
       "      <td>2</td>\n",
       "      <td>2</td>\n",
       "      <td>2</td>\n",
       "    </tr>\n",
       "  </tbody>\n",
       "</table>\n",
       "</div>"
      ],
      "text/plain": [
       "        timestamp timestamp_density  method_time_prediction  bi_level  \\\n",
       "7   1705272255894            223115                       2         2   \n",
       "8   1705356920082            212314                       3         3   \n",
       "19  1705486157408            100410                       3         3   \n",
       "20  1705489579996            104953                       3         3   \n",
       "21  1705496790339            123947                       3         3   \n",
       "28  1705789717468            215024                       2         2   \n",
       "34  1705869651281            202209                       1         1   \n",
       "37  1705925395390            102636                       3         3   \n",
       "40  1705960026847            210500                       2         2   \n",
       "55  1706102874539            131727                       2         2   \n",
       "\n",
       "    accuracy  returns  \n",
       "7          2        2  \n",
       "8          3        3  \n",
       "19         3        3  \n",
       "20         3        3  \n",
       "21         3        3  \n",
       "28         2        2  \n",
       "34         1        1  \n",
       "37         3        3  \n",
       "40         2        2  \n",
       "55         2        2  "
      ]
     },
     "execution_count": 30,
     "metadata": {},
     "output_type": "execute_result"
    }
   ],
   "source": [
    "densities_descriptions = plot_df.groupby(['timestamp', 'timestamp_density']).count().reset_index()\n",
    "densities_descriptions['timestamp'] = densities_descriptions['timestamp'].apply(lambda x: str(x)[:-2])\n",
    "densities_descriptions[densities_descriptions['method_time_prediction'] < 4]"
   ]
  },
  {
   "cell_type": "code",
   "execution_count": 45,
   "metadata": {},
   "outputs": [
    {
     "data": {
      "text/html": [
       "<div>\n",
       "<style scoped>\n",
       "    .dataframe tbody tr th:only-of-type {\n",
       "        vertical-align: middle;\n",
       "    }\n",
       "\n",
       "    .dataframe tbody tr th {\n",
       "        vertical-align: top;\n",
       "    }\n",
       "\n",
       "    .dataframe thead th {\n",
       "        text-align: right;\n",
       "    }\n",
       "</style>\n",
       "<table border=\"1\" class=\"dataframe\">\n",
       "  <thead>\n",
       "    <tr style=\"text-align: right;\">\n",
       "      <th></th>\n",
       "      <th>timestamp</th>\n",
       "      <th>timestamp_density</th>\n",
       "      <th>method_time_prediction</th>\n",
       "      <th>bi_level</th>\n",
       "      <th>accuracy</th>\n",
       "      <th>returns</th>\n",
       "    </tr>\n",
       "  </thead>\n",
       "  <tbody>\n",
       "    <tr>\n",
       "      <th>117</th>\n",
       "      <td>1.705925e+12</td>\n",
       "      <td>102636</td>\n",
       "      <td>hawkes</td>\n",
       "      <td>8</td>\n",
       "      <td>0.500000</td>\n",
       "      <td>-17.024868</td>\n",
       "    </tr>\n",
       "    <tr>\n",
       "      <th>119</th>\n",
       "      <td>1.705925e+12</td>\n",
       "      <td>102636</td>\n",
       "      <td>naive</td>\n",
       "      <td>8</td>\n",
       "      <td>0.416667</td>\n",
       "      <td>-15.190990</td>\n",
       "    </tr>\n",
       "    <tr>\n",
       "      <th>36</th>\n",
       "      <td>1.705925e+12</td>\n",
       "      <td>102636</td>\n",
       "      <td>oracle</td>\n",
       "      <td>8</td>\n",
       "      <td>0.483333</td>\n",
       "      <td>-12.318664</td>\n",
       "    </tr>\n",
       "  </tbody>\n",
       "</table>\n",
       "</div>"
      ],
      "text/plain": [
       "        timestamp timestamp_density method_time_prediction  bi_level  \\\n",
       "117  1.705925e+12            102636                 hawkes         8   \n",
       "119  1.705925e+12            102636                  naive         8   \n",
       "36   1.705925e+12            102636                 oracle         8   \n",
       "\n",
       "     accuracy    returns  \n",
       "117  0.500000 -17.024868  \n",
       "119  0.416667 -15.190990  \n",
       "36   0.483333 -12.318664  "
      ]
     },
     "execution_count": 45,
     "metadata": {},
     "output_type": "execute_result"
    }
   ],
   "source": [
    "plot_df[plot_df['timestamp_density'] == '102636'] # 211536, 115318"
   ]
  },
  {
   "cell_type": "code",
   "execution_count": null,
   "metadata": {},
   "outputs": [],
   "source": [
    "plot_df"
   ]
  },
  {
   "cell_type": "code",
   "execution_count": 39,
   "metadata": {},
   "outputs": [
    {
     "data": {
      "image/png": "[encoded data removed]",
      "text/plain": [
       "<Figure size 1152x720 with 1 Axes>"
      ]
     },
     "metadata": {},
     "output_type": "display_data"
    }
   ],
   "source": [
    "plt.rcParams[\"figure.figsize\"] = (16,10)\n",
    "order = ['oracle', 'hawkes', 'movingaverage', 'naive']\n",
    "sns.boxplot(x='method_time_prediction', y='accuracy', data=plot_df, order=order, showmeans=True, meanline=True)\n",
    "#increase plot size\n",
    "plt.rcParams.update({'font.size': 16})\n",
    "# delete x label\n",
    "plt.xlabel('')\n",
    "plt.ylabel('Accuracy')\n",
    "# set x ticks labels\n",
    "plt.xticks([0, 1, 2, 3], ['Oracle', 'Hawkes', 'Moving Average', 'Naive'])\n",
    "plt.show()"
   ]
  },
  {
   "cell_type": "code",
   "execution_count": 40,
   "metadata": {},
   "outputs": [
    {
     "data": {
      "image/png": "[encoded data removed]",
      "text/plain": [
       "<Figure size 1152x720 with 1 Axes>"
      ]
     },
     "metadata": {},
     "output_type": "display_data"
    }
   ],
   "source": [
    "plt.rcParams[\"figure.figsize\"] = (16,10)\n",
    "order = ['oracle', 'hawkes', 'movingaverage', 'naive']\n",
    "sns.boxplot(x='method_time_prediction', y='returns', data=plot_df, order=order, showmeans=True, meanline=True)\n",
    "#increase plot size\n",
    "plt.rcParams.update({'font.size': 16})\n",
    "# delete x label\n",
    "plt.xlabel('')\n",
    "plt.ylabel('Returns')\n",
    "# set x ticks labels\n",
    "plt.xticks([0, 1, 2, 3], ['Oracle', 'Hawkes', 'Moving Average', 'Naive'])\n",
    "plt.show()"
   ]
  },
  {
   "cell_type": "code",
   "execution_count": 4,
   "metadata": {},
   "outputs": [
    {
     "data": {
      "text/plain": [
       "hawkes           106\n",
       "movingaverage    106\n",
       "naive            106\n",
       "Name: method_time_prediction, dtype: int64"
      ]
     },
     "execution_count": 4,
     "metadata": {},
     "output_type": "execute_result"
    }
   ],
   "source": [
    "df['method_time_prediction'].value_counts()"
   ]
  },
  {
   "cell_type": "code",
   "execution_count": 4,
   "metadata": {},
   "outputs": [],
   "source": [
    "import json\n",
    "with open('/home/davide/Desktop/phd/hawkes/data/1705862648312_173406_intensities.json') as f:\n",
    "    config = json.load(f)"
   ]
  },
  {
   "cell_type": "code",
   "execution_count": 5,
   "metadata": {},
   "outputs": [
    {
     "data": {
      "text/plain": [
       "[<matplotlib.lines.Line2D at 0x7f6768a247c0>]"
      ]
     },
     "execution_count": 5,
     "metadata": {},
     "output_type": "execute_result"
    },
    {
     "data": {
      "image/png": "[encoded data removed]",
      "text/plain": [
       "<Figure size 1152x720 with 1 Axes>"
      ]
     },
     "metadata": {
      "needs_background": "light"
     },
     "output_type": "display_data"
    }
   ],
   "source": [
    "import matplotlib.pyplot as plt\n",
    "\n",
    "# boxpot of intensities\n",
    "plt.rcParams[\"figure.figsize\"] = (16,10)\n",
    "plt.plot(config)"
   ]
  },
  {
   "cell_type": "code",
   "execution_count": 41,
   "metadata": {},
   "outputs": [
    {
     "data": {
      "text/html": [
       "<div>\n",
       "<style scoped>\n",
       "    .dataframe tbody tr th:only-of-type {\n",
       "        vertical-align: middle;\n",
       "    }\n",
       "\n",
       "    .dataframe tbody tr th {\n",
       "        vertical-align: top;\n",
       "    }\n",
       "\n",
       "    .dataframe thead th {\n",
       "        text-align: right;\n",
       "    }\n",
       "</style>\n",
       "<table border=\"1\" class=\"dataframe\">\n",
       "  <thead>\n",
       "    <tr style=\"text-align: right;\">\n",
       "      <th></th>\n",
       "      <th>training_minutes</th>\n",
       "      <th>accuracy</th>\n",
       "    </tr>\n",
       "  </thead>\n",
       "  <tbody>\n",
       "    <tr>\n",
       "      <th>0</th>\n",
       "      <td>1</td>\n",
       "      <td>0.558333</td>\n",
       "    </tr>\n",
       "    <tr>\n",
       "      <th>4</th>\n",
       "      <td>1</td>\n",
       "      <td>0.466667</td>\n",
       "    </tr>\n",
       "    <tr>\n",
       "      <th>8</th>\n",
       "      <td>1</td>\n",
       "      <td>0.425000</td>\n",
       "    </tr>\n",
       "    <tr>\n",
       "      <th>12</th>\n",
       "      <td>1</td>\n",
       "      <td>0.566667</td>\n",
       "    </tr>\n",
       "    <tr>\n",
       "      <th>16</th>\n",
       "      <td>1</td>\n",
       "      <td>0.658333</td>\n",
       "    </tr>\n",
       "  </tbody>\n",
       "</table>\n",
       "</div>"
      ],
      "text/plain": [
       "   training_minutes  accuracy\n",
       "0                 1  0.558333\n",
       "4                 1  0.466667\n",
       "8                 1  0.425000\n",
       "12                1  0.566667\n",
       "16                1  0.658333"
      ]
     },
     "execution_count": 41,
     "metadata": {},
     "output_type": "execute_result"
    }
   ],
   "source": [
    "import os\n",
    "\n",
    "result_file_paths = [\n",
    "    (i, f\"/home/davide/Desktop/phd/hawkes/data_{i}min_training/results_all_not_oracle_{i}min_BI8.tsv\") for i in [1, '090',2,5,10,15,20]\n",
    "]\n",
    "\n",
    "dfs = []\n",
    "for i, result_file_path in result_file_paths:\n",
    "    df = pd.read_csv(result_file_path, sep='\\t')\n",
    "    df['training_minutes'] = i\n",
    "    df = df[df['method_time_prediction'] == 'hawkes']\n",
    "    df = df[['training_minutes', 'accuracy']]\n",
    "    dfs.append(df)\n",
    "\n",
    "df = pd.concat(dfs)\n",
    "df.head()"
   ]
  },
  {
   "cell_type": "code",
   "execution_count": 16,
   "metadata": {},
   "outputs": [
    {
     "data": {
      "text/html": [
       "<div>\n",
       "<style scoped>\n",
       "    .dataframe tbody tr th:only-of-type {\n",
       "        vertical-align: middle;\n",
       "    }\n",
       "\n",
       "    .dataframe tbody tr th {\n",
       "        vertical-align: top;\n",
       "    }\n",
       "\n",
       "    .dataframe thead th {\n",
       "        text-align: right;\n",
       "    }\n",
       "</style>\n",
       "<table border=\"1\" class=\"dataframe\">\n",
       "  <thead>\n",
       "    <tr style=\"text-align: right;\">\n",
       "      <th></th>\n",
       "      <th>training_minutes</th>\n",
       "      <th>accuracy</th>\n",
       "    </tr>\n",
       "  </thead>\n",
       "  <tbody>\n",
       "    <tr>\n",
       "      <th>0</th>\n",
       "      <td>15</td>\n",
       "      <td>0.558333</td>\n",
       "    </tr>\n",
       "    <tr>\n",
       "      <th>4</th>\n",
       "      <td>15</td>\n",
       "      <td>0.475000</td>\n",
       "    </tr>\n",
       "    <tr>\n",
       "      <th>8</th>\n",
       "      <td>15</td>\n",
       "      <td>0.425000</td>\n",
       "    </tr>\n",
       "    <tr>\n",
       "      <th>12</th>\n",
       "      <td>15</td>\n",
       "      <td>0.425000</td>\n",
       "    </tr>\n",
       "    <tr>\n",
       "      <th>16</th>\n",
       "      <td>15</td>\n",
       "      <td>0.625000</td>\n",
       "    </tr>\n",
       "    <tr>\n",
       "      <th>...</th>\n",
       "      <td>...</td>\n",
       "      <td>...</td>\n",
       "    </tr>\n",
       "    <tr>\n",
       "      <th>424</th>\n",
       "      <td>15</td>\n",
       "      <td>0.333333</td>\n",
       "    </tr>\n",
       "    <tr>\n",
       "      <th>428</th>\n",
       "      <td>15</td>\n",
       "      <td>0.350000</td>\n",
       "    </tr>\n",
       "    <tr>\n",
       "      <th>436</th>\n",
       "      <td>15</td>\n",
       "      <td>0.583333</td>\n",
       "    </tr>\n",
       "    <tr>\n",
       "      <th>440</th>\n",
       "      <td>15</td>\n",
       "      <td>0.258333</td>\n",
       "    </tr>\n",
       "    <tr>\n",
       "      <th>444</th>\n",
       "      <td>15</td>\n",
       "      <td>0.783333</td>\n",
       "    </tr>\n",
       "  </tbody>\n",
       "</table>\n",
       "<p>106 rows × 2 columns</p>\n",
       "</div>"
      ],
      "text/plain": [
       "    training_minutes  accuracy\n",
       "0                 15  0.558333\n",
       "4                 15  0.475000\n",
       "8                 15  0.425000\n",
       "12                15  0.425000\n",
       "16                15  0.625000\n",
       "..               ...       ...\n",
       "424               15  0.333333\n",
       "428               15  0.350000\n",
       "436               15  0.583333\n",
       "440               15  0.258333\n",
       "444               15  0.783333\n",
       "\n",
       "[106 rows x 2 columns]"
      ]
     },
     "execution_count": 16,
     "metadata": {},
     "output_type": "execute_result"
    }
   ],
   "source": [
    "df[df['training_minutes'] == 15]"
   ]
  },
  {
   "cell_type": "code",
   "execution_count": 54,
   "metadata": {},
   "outputs": [
    {
     "data": {
      "image/png": "[encoded data removed]",
      "text/plain": [
       "<Figure size 1152x720 with 1 Axes>"
      ]
     },
     "metadata": {},
     "output_type": "display_data"
    }
   ],
   "source": [
    "# boxplot\n",
    "plt.rcParams[\"figure.figsize\"] = (16,10)\n",
    "sns.boxplot(x='training_minutes', y='accuracy', data=df,showmeans=True, meanline=True)\n",
    "# increase font size\n",
    "#increase plot size\n",
    "plt.xlabel('Hawkes training minutes')\n",
    "plt.ylabel('Accuracy')\n",
    "#put white background\n",
    "sns.set_style(\"whitegrid\")"
   ]
  },
  {
   "cell_type": "code",
   "execution_count": 42,
   "metadata": {},
   "outputs": [
    {
     "data": {
      "image/png": "[encoded data removed]",
      "text/plain": [
       "<Figure size 1152x720 with 1 Axes>"
      ]
     },
     "metadata": {},
     "output_type": "display_data"
    }
   ],
   "source": [
    "# boxplot\n",
    "plt.rcParams[\"figure.figsize\"] = (16,10)\n",
    "sns.boxplot(x='training_minutes', y='accuracy', data=df,showmeans=True, meanline=True)\n",
    "# increase font size\n",
    "#increase plot size\n",
    "plt.xlabel('Hawkes training minutes')\n",
    "plt.ylabel('Accuracy')\n",
    "#put white background\n",
    "sns.set_style(\"whitegrid\")"
   ]
  },
  {
   "cell_type": "code",
   "execution_count": 6,
   "metadata": {},
   "outputs": [],
   "source": [
    "import numpy as np\n",
    "\n",
    "events = np.array([1, 2, 3, 4, 5, 15, 25, 30])"
   ]
  },
  {
   "cell_type": "code",
   "execution_count": 7,
   "metadata": {},
   "outputs": [],
   "source": [
    "def get_logarithmic_distanced_events(events: np.array, offset: int = 0) -> np.array:\n",
    "    logarithmic_distanced_events = np.zeros(len(events))\n",
    "\n",
    "    for i in range(1,len(events)):\n",
    "        logarithmic_distance = np.log10(events[i] - events[i-1]) + offset\n",
    "        logarithmic_distanced_events[i] = logarithmic_distance + logarithmic_distanced_events[i-1]\n",
    "\n",
    "    return logarithmic_distanced_events"
   ]
  },
  {
   "cell_type": "code",
   "execution_count": 9,
   "metadata": {},
   "outputs": [
    {
     "data": {
      "text/plain": [
       "array([ 0.     ,  4.     ,  8.     , 12.     , 16.     , 21.     ,\n",
       "       26.     , 30.69897])"
      ]
     },
     "execution_count": 9,
     "metadata": {},
     "output_type": "execute_result"
    }
   ],
   "source": [
    "a = get_logarithmic_distanced_events(events, 4)\n",
    "a"
   ]
  },
  {
   "cell_type": "code",
   "execution_count": 32,
   "metadata": {},
   "outputs": [],
   "source": [
    "def get_reconverted_distanced_events(events: np.array, starting_time: float, offset: int = 0) -> np.array:\n",
    "    reconverted_events = np.zeros(len(events))\n",
    "    reconverted_events[0] = starting_time\n",
    "\n",
    "    for i in range(1,len(events)):\n",
    "        reconverted_events[i] = 10 ** (events[i] - events[i-1] - offset) + reconverted_events[i-1]\n",
    "\n",
    "    return reconverted_events"
   ]
  },
  {
   "cell_type": "code",
   "execution_count": 35,
   "metadata": {},
   "outputs": [
    {
     "data": {
      "text/plain": [
       "array([ 1.,  2.,  3.,  4.,  5., 15., 25., 30.])"
      ]
     },
     "execution_count": 35,
     "metadata": {},
     "output_type": "execute_result"
    }
   ],
   "source": [
    "get_reconverted_distanced_events(a, 1, 4)"
   ]
  },
  {
   "cell_type": "code",
   "execution_count": null,
   "metadata": {},
   "outputs": [],
   "source": []
  }
 ],
 "metadata": {
  "kernelspec": {
   "display_name": "scanpy",
   "language": "python",
   "name": "python3"
  },
  "language_info": {
   "codemirror_mode": {
    "name": "ipython",
    "version": 3
   },
   "file_extension": ".py",
   "mimetype": "text/x-python",
   "name": "python",
   "nbconvert_exporter": "python",
   "pygments_lexer": "ipython3",
   "version": "3.8.0"
  }
 },
 "nbformat": 4,
 "nbformat_minor": 2
}
