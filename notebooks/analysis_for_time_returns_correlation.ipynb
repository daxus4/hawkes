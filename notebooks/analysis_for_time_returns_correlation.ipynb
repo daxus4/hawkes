{
 "cells": [
  {
   "cell_type": "code",
   "execution_count": 1,
   "metadata": {},
   "outputs": [],
   "source": [
    "import pandas as pd\n",
    "import numpy as np\n",
    "from matplotlib import pyplot as plt\n",
    "import seaborn as sns\n",
    "import os"
   ]
  },
  {
   "cell_type": "code",
   "execution_count": 2,
   "metadata": {},
   "outputs": [],
   "source": [
    "def get_preprocessed_df(df: pd.DataFrame, base_imbalance_orderbook_level: int) -> pd.DataFrame:\n",
    "    df['MidPrice'] = (df[\"AskPrice1\"]+df[\"BidPrice1\"])/2\n",
    "    df['Return'] = (-df[\"MidPrice\"]+df[\"MidPrice\"].shift(-1)) / df[\"MidPrice\"]\n",
    "\n",
    "    pbid = df[\"BidPrice1\"] - df[f\"BidPrice{base_imbalance_orderbook_level}\"]\n",
    "    pask = df[f\"AskPrice{base_imbalance_orderbook_level}\"] - df[\"AskPrice1\"]\n",
    "    df[\"BaseImbalance\"] = (pbid-pask)/(pbid+pask)\n",
    "\n",
    "    df=df.dropna(subset=['Return', 'BaseImbalance'])\n",
    "    df = df[df['Return'] != 0]\n",
    "    df = df[['Timestamp', 'BaseImbalance', 'Return']]\n",
    "    df['TimestampDiff'] = -df['Timestamp'].diff(-1)\n",
    "\n",
    "    return df\n"
   ]
  },
  {
   "cell_type": "code",
   "execution_count": 3,
   "metadata": {},
   "outputs": [
    {
     "data": {
      "text/html": [
       "<div>\n",
       "<style scoped>\n",
       "    .dataframe tbody tr th:only-of-type {\n",
       "        vertical-align: middle;\n",
       "    }\n",
       "\n",
       "    .dataframe tbody tr th {\n",
       "        vertical-align: top;\n",
       "    }\n",
       "\n",
       "    .dataframe thead th {\n",
       "        text-align: right;\n",
       "    }\n",
       "</style>\n",
       "<table border=\"1\" class=\"dataframe\">\n",
       "  <thead>\n",
       "    <tr style=\"text-align: right;\">\n",
       "      <th></th>\n",
       "      <th>Timestamp</th>\n",
       "      <th>BaseImbalance</th>\n",
       "      <th>Return</th>\n",
       "      <th>TimestampDiff</th>\n",
       "    </tr>\n",
       "  </thead>\n",
       "  <tbody>\n",
       "    <tr>\n",
       "      <th>13</th>\n",
       "      <td>1705070763156</td>\n",
       "      <td>0.000000</td>\n",
       "      <td>0.000088</td>\n",
       "      <td>242.0</td>\n",
       "    </tr>\n",
       "    <tr>\n",
       "      <th>14</th>\n",
       "      <td>1705070763398</td>\n",
       "      <td>-0.435897</td>\n",
       "      <td>0.000155</td>\n",
       "      <td>231.0</td>\n",
       "    </tr>\n",
       "    <tr>\n",
       "      <th>15</th>\n",
       "      <td>1705070763629</td>\n",
       "      <td>-0.480000</td>\n",
       "      <td>-0.000088</td>\n",
       "      <td>1.0</td>\n",
       "    </tr>\n",
       "    <tr>\n",
       "      <th>16</th>\n",
       "      <td>1705070763630</td>\n",
       "      <td>-0.277778</td>\n",
       "      <td>0.000011</td>\n",
       "      <td>237.0</td>\n",
       "    </tr>\n",
       "    <tr>\n",
       "      <th>17</th>\n",
       "      <td>1705070763867</td>\n",
       "      <td>-0.500000</td>\n",
       "      <td>-0.000066</td>\n",
       "      <td>251.0</td>\n",
       "    </tr>\n",
       "  </tbody>\n",
       "</table>\n",
       "</div>"
      ],
      "text/plain": [
       "        Timestamp  BaseImbalance    Return  TimestampDiff\n",
       "13  1705070763156       0.000000  0.000088          242.0\n",
       "14  1705070763398      -0.435897  0.000155          231.0\n",
       "15  1705070763629      -0.480000 -0.000088            1.0\n",
       "16  1705070763630      -0.277778  0.000011          237.0\n",
       "17  1705070763867      -0.500000 -0.000066          251.0"
      ]
     },
     "execution_count": 3,
     "metadata": {},
     "output_type": "execute_result"
    }
   ],
   "source": [
    "files = []\n",
    "for filename in os.listdir('/home/davide/Desktop/phd/bitfinex-api-py/data/orderbook_changes'):\n",
    "    if filename.endswith('.tsv'):\n",
    "        files.append('/home/davide/Desktop/phd/bitfinex-api-py/data/orderbook_changes' + filename)\n",
    "dfs = []\n",
    "for file in files:\n",
    "    df = pd.read_csv('/home/davide/Desktop/phd/bitfinex-api-py/data/orderbook_changes/orderbook_changes_1705074061033.tsv', sep='\\t')\n",
    "    df = get_preprocessed_df(df, 8)\n",
    "    dfs.append(df)\n",
    "df = pd.concat(dfs)\n",
    "df.head()"
   ]
  },
  {
   "cell_type": "code",
   "execution_count": 4,
   "metadata": {},
   "outputs": [
    {
     "data": {
      "text/html": [
       "<div>\n",
       "<style scoped>\n",
       "    .dataframe tbody tr th:only-of-type {\n",
       "        vertical-align: middle;\n",
       "    }\n",
       "\n",
       "    .dataframe tbody tr th {\n",
       "        vertical-align: top;\n",
       "    }\n",
       "\n",
       "    .dataframe thead th {\n",
       "        text-align: right;\n",
       "    }\n",
       "</style>\n",
       "<table border=\"1\" class=\"dataframe\">\n",
       "  <thead>\n",
       "    <tr style=\"text-align: right;\">\n",
       "      <th></th>\n",
       "      <th>Return</th>\n",
       "      <th>TimestampDiff</th>\n",
       "    </tr>\n",
       "  </thead>\n",
       "  <tbody>\n",
       "    <tr>\n",
       "      <th>Return</th>\n",
       "      <td>1.000000</td>\n",
       "      <td>0.021583</td>\n",
       "    </tr>\n",
       "    <tr>\n",
       "      <th>TimestampDiff</th>\n",
       "      <td>0.021583</td>\n",
       "      <td>1.000000</td>\n",
       "    </tr>\n",
       "  </tbody>\n",
       "</table>\n",
       "</div>"
      ],
      "text/plain": [
       "                 Return  TimestampDiff\n",
       "Return         1.000000       0.021583\n",
       "TimestampDiff  0.021583       1.000000"
      ]
     },
     "execution_count": 4,
     "metadata": {},
     "output_type": "execute_result"
    }
   ],
   "source": [
    "df[['Return', 'TimestampDiff']].corr('spearman')"
   ]
  },
  {
   "cell_type": "code",
   "execution_count": 5,
   "metadata": {},
   "outputs": [
    {
     "data": {
      "text/html": [
       "<div>\n",
       "<style scoped>\n",
       "    .dataframe tbody tr th:only-of-type {\n",
       "        vertical-align: middle;\n",
       "    }\n",
       "\n",
       "    .dataframe tbody tr th {\n",
       "        vertical-align: top;\n",
       "    }\n",
       "\n",
       "    .dataframe thead th {\n",
       "        text-align: right;\n",
       "    }\n",
       "</style>\n",
       "<table border=\"1\" class=\"dataframe\">\n",
       "  <thead>\n",
       "    <tr style=\"text-align: right;\">\n",
       "      <th></th>\n",
       "      <th>Return</th>\n",
       "      <th>TimestampDiff</th>\n",
       "    </tr>\n",
       "  </thead>\n",
       "  <tbody>\n",
       "    <tr>\n",
       "      <th>Return</th>\n",
       "      <td>1.000000</td>\n",
       "      <td>-0.009184</td>\n",
       "    </tr>\n",
       "    <tr>\n",
       "      <th>TimestampDiff</th>\n",
       "      <td>-0.009184</td>\n",
       "      <td>1.000000</td>\n",
       "    </tr>\n",
       "  </tbody>\n",
       "</table>\n",
       "</div>"
      ],
      "text/plain": [
       "                 Return  TimestampDiff\n",
       "Return         1.000000      -0.009184\n",
       "TimestampDiff -0.009184       1.000000"
      ]
     },
     "execution_count": 5,
     "metadata": {},
     "output_type": "execute_result"
    }
   ],
   "source": [
    "df[['Return', 'TimestampDiff']].corr('pearson')"
   ]
  }
 ],
 "metadata": {
  "kernelspec": {
   "display_name": "scanpy",
   "language": "python",
   "name": "python3"
  },
  "language_info": {
   "codemirror_mode": {
    "name": "ipython",
    "version": 3
   },
   "file_extension": ".py",
   "mimetype": "text/x-python",
   "name": "python",
   "nbconvert_exporter": "python",
   "pygments_lexer": "ipython3",
   "version": "3.8.0"
  }
 },
 "nbformat": 4,
 "nbformat_minor": 2
}
