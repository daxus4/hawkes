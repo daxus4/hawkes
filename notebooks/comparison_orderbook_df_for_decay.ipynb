{
 "cells": [
  {
   "cell_type": "code",
   "execution_count": 8,
   "metadata": {},
   "outputs": [],
   "source": [
    "import pandas as pd\n",
    "from matplotlib import pyplot as plt\n",
    "import seaborn as sns"
   ]
  },
  {
   "cell_type": "code",
   "execution_count": 13,
   "metadata": {},
   "outputs": [],
   "source": [
    "def get_preprocessed_df(df: pd.DataFrame, base_imbalance_orderbook_level: int) -> pd.DataFrame:\n",
    "    df['MidPrice'] = (df[\"AskPrice1\"]+df[\"BidPrice1\"])/2\n",
    "    df['Return'] = (-df[\"MidPrice\"]+df[\"MidPrice\"].shift(-1)) / df[\"MidPrice\"]\n",
    "\n",
    "    pbid = df[\"BidPrice1\"] - df[f\"BidPrice{base_imbalance_orderbook_level}\"]\n",
    "    pask = df[f\"AskPrice{base_imbalance_orderbook_level}\"] - df[\"AskPrice1\"]\n",
    "    df[\"BaseImbalance\"] = (pbid-pask)/(pbid+pask)\n",
    "\n",
    "    df=df.dropna(subset=['Return', 'BaseImbalance'])\n",
    "    df = df[df['Return'] != 0]\n",
    "    df = df[['Timestamp', 'BaseImbalance', 'Return']]\n",
    "    df['Diff'] = df['Timestamp'] - df['Timestamp'].shift(1)\n",
    "\n",
    "    return df\n",
    "\n",
    "def get_sliced_df(df: pd.DataFrame, end_time_training_millisec: int, train_duration_min: int) -> pd.DataFrame:\n",
    "    orderbook_df = df[(df['Timestamp'] <= end_time_training_millisec) & \n",
    "                      (df['Timestamp'] >= end_time_training_millisec - (train_duration_min*60*1000))].copy()\n",
    "    return orderbook_df\n",
    "\n",
    "def get_orderbook_df_sliced(path: str, end_time_training_millisec: int, train_duration_min: int, base_imbalance_orderbook_level: int) -> pd.DataFrame:\n",
    "    df = pd.read_csv(path, sep='\\t')\n",
    "    df = get_preprocessed_df(df, base_imbalance_orderbook_level)\n",
    "    orderbook_df = get_sliced_df(df, end_time_training_millisec, train_duration_min)\n",
    "    return orderbook_df"
   ]
  },
  {
   "cell_type": "code",
   "execution_count": 21,
   "metadata": {},
   "outputs": [
    {
     "name": "stdout",
     "output_type": "stream",
     "text": [
      "           Timestamp  BaseImbalance    Return     Diff  decay_saturated\n",
      "6390   1705071891982       0.285714  0.000022   1157.0             True\n",
      "6395   1705071893188       0.241379 -0.000022   1206.0             True\n",
      "6398   1705071893627       0.058824 -0.000011    439.0             True\n",
      "6402   1705071894501       0.200000 -0.000011    874.0             True\n",
      "6483   1705071910318       0.235294 -0.000198  15817.0             True\n",
      "...              ...            ...       ...      ...              ...\n",
      "11355  1705072764641       0.120000 -0.000022    208.0             True\n",
      "11360  1705072765518       0.103448 -0.000033    877.0             True\n",
      "11361  1705072765734       0.034483 -0.000011    216.0             True\n",
      "11362  1705072765735       0.111111  0.000011      1.0             True\n",
      "11363  1705072765957      -0.090909 -0.000033    222.0             True\n",
      "\n",
      "[1428 rows x 5 columns]\n"
     ]
    }
   ],
   "source": [
    "orderbook_df = get_orderbook_df_sliced(\n",
    "    '/home/davide/Desktop/phd/bitfinex-api-py/data/orderbook_changes/orderbook_changes_1705074061033.tsv',\n",
    "    1705072791000, 15, 8\n",
    ")\n",
    "orderbook_df['decay_saturated'] = True\n",
    "print(orderbook_df)"
   ]
  },
  {
   "cell_type": "code",
   "execution_count": 22,
   "metadata": {},
   "outputs": [],
   "source": [
    "orderbook_df2 = get_orderbook_df_sliced(\n",
    "    '/home/davide/Desktop/phd/bitfinex-api-py/data/orderbook_changes/orderbook_changes_1705164940479.tsv',\n",
    "    1705163925000, 15, 8\n",
    ")\n",
    "orderbook_df2['decay_saturated'] = False\n",
    "orderbook_df = pd.concat([orderbook_df, orderbook_df2])"
   ]
  },
  {
   "cell_type": "code",
   "execution_count": 28,
   "metadata": {},
   "outputs": [
    {
     "data": {
      "image/png": "[encoded data removed]",
      "text/plain": [
       "<Figure size 432x288 with 1 Axes>"
      ]
     },
     "metadata": {
      "needs_background": "light"
     },
     "output_type": "display_data"
    }
   ],
   "source": [
    "sns.boxplot(x='decay_saturated', y='Diff', data=orderbook_df)\n",
    "plt.yscale('log')"
   ]
  }
 ],
 "metadata": {
  "kernelspec": {
   "display_name": "scanpy",
   "language": "python",
   "name": "python3"
  },
  "language_info": {
   "codemirror_mode": {
    "name": "ipython",
    "version": 3
   },
   "file_extension": ".py",
   "mimetype": "text/x-python",
   "name": "python",
   "nbconvert_exporter": "python",
   "pygments_lexer": "ipython3",
   "version": "3.8.0"
  }
 },
 "nbformat": 4,
 "nbformat_minor": 2
}
