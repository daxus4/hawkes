{
 "cells": [
  {
   "cell_type": "code",
   "execution_count": 1,
   "metadata": {},
   "outputs": [],
   "source": [
    "import pandas as pd\n",
    "import json\n",
    "import os\n",
    "from matplotlib import pyplot as plt\n",
    "import seaborn as sns"
   ]
  },
  {
   "cell_type": "code",
   "execution_count": 2,
   "metadata": {},
   "outputs": [],
   "source": [
    "from typing import List\n",
    "\n",
    "\n",
    "def get_readed_prediction_errors_files(dir: str) -> List[str]:\n",
    "    errors = []\n",
    "    for root, dirs, files in os.walk(dir):\n",
    "        for file in files:\n",
    "            if file.endswith(\"prediction_errors.json\"):\n",
    "                errors.append(os.path.join(root, file))\n",
    "    return errors\n",
    "\n",
    "def get_readed_prediction_errors_files_for_moving_average(\n",
    "    dir: str, seconds: str\n",
    ") -> List[str]:\n",
    "    errors = []\n",
    "    for root, dirs, files in os.walk(dir):\n",
    "        for file in files:\n",
    "            if file.endswith(f\"{seconds}_prediction_errors.json\"):\n",
    "                errors.append(os.path.join(root, file))\n",
    "    return errors\n",
    "\n",
    "def get_readed_prediction_errors(file_path: str) -> List[float]:\n",
    "    with open(file_path, 'r') as file:\n",
    "        errors = json.load(file)\n",
    "\n",
    "    return errors"
   ]
  },
  {
   "cell_type": "code",
   "execution_count": 3,
   "metadata": {},
   "outputs": [
    {
     "data": {
      "text/html": [
       "<div>\n",
       "<style scoped>\n",
       "    .dataframe tbody tr th:only-of-type {\n",
       "        vertical-align: middle;\n",
       "    }\n",
       "\n",
       "    .dataframe tbody tr th {\n",
       "        vertical-align: top;\n",
       "    }\n",
       "\n",
       "    .dataframe thead th {\n",
       "        text-align: right;\n",
       "    }\n",
       "</style>\n",
       "<table border=\"1\" class=\"dataframe\">\n",
       "  <thead>\n",
       "    <tr style=\"text-align: right;\">\n",
       "      <th></th>\n",
       "      <th>method</th>\n",
       "      <th>error</th>\n",
       "    </tr>\n",
       "  </thead>\n",
       "  <tbody>\n",
       "    <tr>\n",
       "      <th>0</th>\n",
       "      <td>hawkes</td>\n",
       "      <td>0.138880</td>\n",
       "    </tr>\n",
       "    <tr>\n",
       "      <th>1</th>\n",
       "      <td>hawkes</td>\n",
       "      <td>0.226567</td>\n",
       "    </tr>\n",
       "    <tr>\n",
       "      <th>2</th>\n",
       "      <td>hawkes</td>\n",
       "      <td>0.305554</td>\n",
       "    </tr>\n",
       "    <tr>\n",
       "      <th>3</th>\n",
       "      <td>hawkes</td>\n",
       "      <td>0.160853</td>\n",
       "    </tr>\n",
       "    <tr>\n",
       "      <th>4</th>\n",
       "      <td>hawkes</td>\n",
       "      <td>0.214304</td>\n",
       "    </tr>\n",
       "  </tbody>\n",
       "</table>\n",
       "</div>"
      ],
      "text/plain": [
       "   method     error\n",
       "0  hawkes  0.138880\n",
       "1  hawkes  0.226567\n",
       "2  hawkes  0.305554\n",
       "3  hawkes  0.160853\n",
       "4  hawkes  0.214304"
      ]
     },
     "execution_count": 3,
     "metadata": {},
     "output_type": "execute_result"
    }
   ],
   "source": [
    "moving_average_error_files = get_readed_prediction_errors_files_for_moving_average('data_moving_average_windows_results', 30)\n",
    "\n",
    "moving_average_errors = list()\n",
    "for f in moving_average_error_files:\n",
    "    errors = get_readed_prediction_errors(f)\n",
    "    moving_average_errors.extend(errors)\n",
    "moving_average_errors = [e for e in moving_average_errors]\n",
    "moving_average_errors_df = pd.DataFrame(\n",
    "    {'method': 'moving average','error': moving_average_errors}\n",
    ")\n",
    "\n",
    "hawkes_error_files = get_readed_prediction_errors_files('data_20min_training')\n",
    "\n",
    "hawkes_errors = list()\n",
    "for f in hawkes_error_files:\n",
    "    errors = get_readed_prediction_errors(f)\n",
    "    hawkes_errors.extend(errors)\n",
    "\n",
    "hawkes_errors_df = pd.DataFrame(\n",
    "    {'method': 'hawkes','error': hawkes_errors}\n",
    ")\n",
    "\n",
    "errors_df = pd.concat([hawkes_errors_df, moving_average_errors_df])\n",
    "errors_df['error'] = errors_df['error'].abs()\n",
    "errors_df.head()"
   ]
  },
  {
   "cell_type": "code",
   "execution_count": 4,
   "metadata": {},
   "outputs": [
    {
     "data": {
      "text/plain": [
       "<AxesSubplot:xlabel='method', ylabel='error'>"
      ]
     },
     "execution_count": 4,
     "metadata": {},
     "output_type": "execute_result"
    },
    {
     "data": {
      "image/png": "[encoded data removed]",
      "text/plain": [
       "<Figure size 720x432 with 1 Axes>"
      ]
     },
     "metadata": {
      "needs_background": "light"
     },
     "output_type": "display_data"
    }
   ],
   "source": [
    "# violplot of errors\n",
    "plt.figure(figsize=(10, 6))  # Adjust the width and height as needed\n",
    "sns.violinplot(data=errors_df, x='method', y='error')\n"
   ]
  },
  {
   "cell_type": "code",
   "execution_count": 16,
   "metadata": {},
   "outputs": [
    {
     "data": {
      "text/plain": [
       "<AxesSubplot:xlabel='method', ylabel='error'>"
      ]
     },
     "execution_count": 16,
     "metadata": {},
     "output_type": "execute_result"
    },
    {
     "data": {
      "image/png": "[encoded data removed]",
      "text/plain": [
       "<Figure size 720x432 with 1 Axes>"
      ]
     },
     "metadata": {
      "needs_background": "light"
     },
     "output_type": "display_data"
    }
   ],
   "source": [
    "# violplot of errors\n",
    "plt.figure(figsize=(10, 6))  # Adjust the width and height as needed\n",
    "sns.boxplot(data=errors_df, x='method', y='error', showfliers=False)"
   ]
  }
 ],
 "metadata": {
  "kernelspec": {
   "display_name": "scanpy",
   "language": "python",
   "name": "python3"
  },
  "language_info": {
   "codemirror_mode": {
    "name": "ipython",
    "version": 3
   },
   "file_extension": ".py",
   "mimetype": "text/x-python",
   "name": "python",
   "nbconvert_exporter": "python",
   "pygments_lexer": "ipython3",
   "version": "3.8.0"
  }
 },
 "nbformat": 4,
 "nbformat_minor": 2
}
