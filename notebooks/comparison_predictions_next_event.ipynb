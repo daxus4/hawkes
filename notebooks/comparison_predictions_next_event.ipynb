{
 "cells": [
  {
   "cell_type": "code",
   "execution_count": 1,
   "metadata": {},
   "outputs": [],
   "source": [
    "import pandas as pd\n",
    "import json\n",
    "import os\n",
    "from matplotlib import pyplot as plt\n",
    "import seaborn as sns"
   ]
  },
  {
   "cell_type": "code",
   "execution_count": 4,
   "metadata": {},
   "outputs": [],
   "source": [
    "from typing import Dict, List\n",
    "\n",
    "\n",
    "def get_readed_coe_df(path: str) -> pd.DataFrame:\n",
    "    return pd.read_csv(path, header=0)\n",
    "\n",
    "def get_prediction_errors(df: pd.DataFrame) -> List[float]:\n",
    "    errors = (df['Timestamp'] - df['NearestEventTimestampNotScaled']).abs()\n",
    "    errors = errors[errors.isna() == False]\n",
    "    return errors.tolist()\n",
    "\n",
    "def get_prediction_errors_for_submethod(submethod_dir: str) -> Dict[str, List[float]]:\n",
    "    file_prediction_errors_map = dict()\n",
    "    for file in os.listdir(submethod_dir):\n",
    "        if file.endswith('.csv'):\n",
    "            df = get_readed_coe_df(os.path.join(submethod_dir, file))\n",
    "            file_prediction_errors_map[file] = get_prediction_errors(df)\n",
    "            \n",
    "    return file_prediction_errors_map\n",
    "\n",
    "def get_prediction_errors_for_all_submethods(method_dir: str) -> Dict[str, Dict[str, List[float]]]:\n",
    "    submethod_prediction_errors_map = dict()\n",
    "    for submethod in os.listdir(method_dir):\n",
    "        submethod_dir = os.path.join(method_dir, submethod)\n",
    "        if os.path.isdir(submethod_dir):\n",
    "            submethod_prediction_errors_map[submethod] = get_prediction_errors_for_submethod(submethod_dir)\n",
    "            \n",
    "    return submethod_prediction_errors_map\n",
    "\n",
    "def get_df_prediction_errors_for_all_submethods(submethod_prediction_errors_map: Dict[str, Dict[str, List[float]]]) -> pd.DataFrame:\n",
    "    data = []\n",
    "    for submethod, file_prediction_errors_map in submethod_prediction_errors_map.items():\n",
    "        for file, errors in file_prediction_errors_map.items():\n",
    "            data.extend([(submethod, file, error) for error in errors])\n",
    "            \n",
    "    df = pd.DataFrame(data, columns=['submethod', 'file', 'error'])\n",
    "\n",
    "    df['timestamp'] = df['file'].apply(lambda x: int(x.split('_')[0]))\n",
    "    df['timestamp_density'] = df['file'].apply(lambda x: int(x.split('_')[1]))\n",
    "\n",
    "    return df\n",
    "\n",
    "\n",
    "def get_submethod_label_for_plot(submethod: str) -> str:\n",
    "    splitted_submethod = submethod.split('_')\n",
    "    if len(splitted_submethod) == 1:\n",
    "        return submethod\n",
    "    else:\n",
    "        return splitted_submethod[0][0] + splitted_submethod[1]\n",
    "    \n",
    "def get_decay(decay_df: pd.DataFrame, coe_df_filename: str) -> float:\n",
    "    timestamp_file, timestamp = coe_df_filename.split('_')[0:2]\n",
    "\n",
    "    decay = decay_df[decay_df['timestamp_file'] == timestamp_file]\n",
    "    decay = decay[decay['timestamp'] == timestamp]\n",
    "    return decay['decay'].values[0]\n",
    "\n"
   ]
  },
  {
   "cell_type": "code",
   "execution_count": 5,
   "metadata": {},
   "outputs": [
    {
     "data": {
      "text/html": [
       "<div>\n",
       "<style scoped>\n",
       "    .dataframe tbody tr th:only-of-type {\n",
       "        vertical-align: middle;\n",
       "    }\n",
       "\n",
       "    .dataframe tbody tr th {\n",
       "        vertical-align: top;\n",
       "    }\n",
       "\n",
       "    .dataframe thead th {\n",
       "        text-align: right;\n",
       "    }\n",
       "</style>\n",
       "<table border=\"1\" class=\"dataframe\">\n",
       "  <thead>\n",
       "    <tr style=\"text-align: right;\">\n",
       "      <th></th>\n",
       "      <th>submethod</th>\n",
       "      <th>file</th>\n",
       "      <th>error</th>\n",
       "      <th>timestamp</th>\n",
       "      <th>timestamp_density</th>\n",
       "    </tr>\n",
       "  </thead>\n",
       "  <tbody>\n",
       "    <tr>\n",
       "      <th>0</th>\n",
       "      <td>naive</td>\n",
       "      <td>1705456527352_1705451719_BI10.csv</td>\n",
       "      <td>0.346</td>\n",
       "      <td>1705456527352</td>\n",
       "      <td>1705451719</td>\n",
       "    </tr>\n",
       "    <tr>\n",
       "      <th>1</th>\n",
       "      <td>naive</td>\n",
       "      <td>1705456527352_1705451719_BI10.csv</td>\n",
       "      <td>0.235</td>\n",
       "      <td>1705456527352</td>\n",
       "      <td>1705451719</td>\n",
       "    </tr>\n",
       "    <tr>\n",
       "      <th>2</th>\n",
       "      <td>naive</td>\n",
       "      <td>1705456527352_1705451719_BI10.csv</td>\n",
       "      <td>0.321</td>\n",
       "      <td>1705456527352</td>\n",
       "      <td>1705451719</td>\n",
       "    </tr>\n",
       "    <tr>\n",
       "      <th>3</th>\n",
       "      <td>naive</td>\n",
       "      <td>1705456527352_1705451719_BI10.csv</td>\n",
       "      <td>0.222</td>\n",
       "      <td>1705456527352</td>\n",
       "      <td>1705451719</td>\n",
       "    </tr>\n",
       "    <tr>\n",
       "      <th>4</th>\n",
       "      <td>naive</td>\n",
       "      <td>1705456527352_1705451719_BI10.csv</td>\n",
       "      <td>0.312</td>\n",
       "      <td>1705456527352</td>\n",
       "      <td>1705451719</td>\n",
       "    </tr>\n",
       "  </tbody>\n",
       "</table>\n",
       "</div>"
      ],
      "text/plain": [
       "  submethod                               file  error      timestamp  \\\n",
       "0     naive  1705456527352_1705451719_BI10.csv  0.346  1705456527352   \n",
       "1     naive  1705456527352_1705451719_BI10.csv  0.235  1705456527352   \n",
       "2     naive  1705456527352_1705451719_BI10.csv  0.321  1705456527352   \n",
       "3     naive  1705456527352_1705451719_BI10.csv  0.222  1705456527352   \n",
       "4     naive  1705456527352_1705451719_BI10.csv  0.312  1705456527352   \n",
       "\n",
       "   timestamp_density  \n",
       "0         1705451719  \n",
       "1         1705451719  \n",
       "2         1705451719  \n",
       "3         1705451719  \n",
       "4         1705451719  "
      ]
     },
     "execution_count": 5,
     "metadata": {},
     "output_type": "execute_result"
    }
   ],
   "source": [
    "submethod_prediction_errors_map = get_prediction_errors_for_all_submethods('data/sampled_coe_dfs')\n",
    "submethod_prediction_errors_df = get_df_prediction_errors_for_all_submethods(submethod_prediction_errors_map)\n",
    "submethod_prediction_errors_df.head()"
   ]
  },
  {
   "cell_type": "code",
   "execution_count": 6,
   "metadata": {},
   "outputs": [
    {
     "data": {
      "text/html": [
       "<div>\n",
       "<style scoped>\n",
       "    .dataframe tbody tr th:only-of-type {\n",
       "        vertical-align: middle;\n",
       "    }\n",
       "\n",
       "    .dataframe tbody tr th {\n",
       "        vertical-align: top;\n",
       "    }\n",
       "\n",
       "    .dataframe thead th {\n",
       "        text-align: right;\n",
       "    }\n",
       "</style>\n",
       "<table border=\"1\" class=\"dataframe\">\n",
       "  <thead>\n",
       "    <tr style=\"text-align: right;\">\n",
       "      <th></th>\n",
       "      <th>submethod</th>\n",
       "      <th>file</th>\n",
       "      <th>error</th>\n",
       "      <th>timestamp</th>\n",
       "      <th>timestamp_density</th>\n",
       "    </tr>\n",
       "  </thead>\n",
       "  <tbody>\n",
       "  </tbody>\n",
       "</table>\n",
       "</div>"
      ],
      "text/plain": [
       "Empty DataFrame\n",
       "Columns: [submethod, file, error, timestamp, timestamp_density]\n",
       "Index: []"
      ]
     },
     "execution_count": 6,
     "metadata": {},
     "output_type": "execute_result"
    }
   ],
   "source": [
    "submethod_prediction_errors_df[submethod_prediction_errors_df['error'] > 15]"
   ]
  },
  {
   "cell_type": "code",
   "execution_count": 7,
   "metadata": {},
   "outputs": [
    {
     "data": {
      "text/html": [
       "<div>\n",
       "<style scoped>\n",
       "    .dataframe tbody tr th:only-of-type {\n",
       "        vertical-align: middle;\n",
       "    }\n",
       "\n",
       "    .dataframe tbody tr th {\n",
       "        vertical-align: top;\n",
       "    }\n",
       "\n",
       "    .dataframe thead th {\n",
       "        text-align: right;\n",
       "    }\n",
       "</style>\n",
       "<table border=\"1\" class=\"dataframe\">\n",
       "  <thead>\n",
       "    <tr style=\"text-align: right;\">\n",
       "      <th></th>\n",
       "      <th>error</th>\n",
       "    </tr>\n",
       "    <tr>\n",
       "      <th>submethod</th>\n",
       "      <th></th>\n",
       "    </tr>\n",
       "  </thead>\n",
       "  <tbody>\n",
       "    <tr>\n",
       "      <th>oracle</th>\n",
       "      <td>0.000000</td>\n",
       "    </tr>\n",
       "    <tr>\n",
       "      <th>hawkes_20</th>\n",
       "      <td>0.294841</td>\n",
       "    </tr>\n",
       "    <tr>\n",
       "      <th>hawkes_15</th>\n",
       "      <td>0.296710</td>\n",
       "    </tr>\n",
       "    <tr>\n",
       "      <th>hawkes_10</th>\n",
       "      <td>0.306279</td>\n",
       "    </tr>\n",
       "    <tr>\n",
       "      <th>hawkes_5</th>\n",
       "      <td>0.318055</td>\n",
       "    </tr>\n",
       "    <tr>\n",
       "      <th>movingaverage_60</th>\n",
       "      <td>0.340844</td>\n",
       "    </tr>\n",
       "    <tr>\n",
       "      <th>movingaverage_30</th>\n",
       "      <td>0.341398</td>\n",
       "    </tr>\n",
       "    <tr>\n",
       "      <th>movingaverage_240</th>\n",
       "      <td>0.344199</td>\n",
       "    </tr>\n",
       "    <tr>\n",
       "      <th>movingaverage_120</th>\n",
       "      <td>0.345409</td>\n",
       "    </tr>\n",
       "    <tr>\n",
       "      <th>naive</th>\n",
       "      <td>0.345926</td>\n",
       "    </tr>\n",
       "    <tr>\n",
       "      <th>movingaverage_180</th>\n",
       "      <td>0.347246</td>\n",
       "    </tr>\n",
       "  </tbody>\n",
       "</table>\n",
       "</div>"
      ],
      "text/plain": [
       "                      error\n",
       "submethod                  \n",
       "oracle             0.000000\n",
       "hawkes_20          0.294841\n",
       "hawkes_15          0.296710\n",
       "hawkes_10          0.306279\n",
       "hawkes_5           0.318055\n",
       "movingaverage_60   0.340844\n",
       "movingaverage_30   0.341398\n",
       "movingaverage_240  0.344199\n",
       "movingaverage_120  0.345409\n",
       "naive              0.345926\n",
       "movingaverage_180  0.347246"
      ]
     },
     "execution_count": 7,
     "metadata": {},
     "output_type": "execute_result"
    }
   ],
   "source": [
    "submethod_prediction_errors_df[['submethod', 'error']].groupby('submethod').mean().sort_values('error')"
   ]
  },
  {
   "cell_type": "code",
   "execution_count": 8,
   "metadata": {},
   "outputs": [
    {
     "data": {
      "image/png": "[encoded data removed]",
      "text/plain": [
       "<Figure size 1152x720 with 1 Axes>"
      ]
     },
     "metadata": {
      "needs_background": "light"
     },
     "output_type": "display_data"
    }
   ],
   "source": [
    "order = submethod_prediction_errors_df.groupby('submethod').mean().sort_values('error').index\n",
    "# boxplot\n",
    "plt.rcParams[\"figure.figsize\"] = (16,10)\n",
    "sns.boxplot(x='submethod', y='error', data=submethod_prediction_errors_df,\n",
    "            showfliers=True, order=order)\n",
    "# increase font size\n",
    "#increase plot size\n",
    "plt.rcParams.update({'font.size': 18})\n",
    "plt.xlabel(None)\n",
    "\n",
    "# rename x ticks labels to be more readable\n",
    "plt.xticks(range(len(order)), [get_submethod_label_for_plot(submethod) for submethod in order])\n",
    "\n",
    "\n",
    "plt.ylabel('Errors on prediction time')\n",
    "#put white background\n",
    "sns.set_style(\"whitegrid\")"
   ]
  },
  {
   "cell_type": "code",
   "execution_count": 12,
   "metadata": {},
   "outputs": [
    {
     "data": {
      "image/png": "[encoded data removed]",
      "text/plain": [
       "<Figure size 1152x720 with 1 Axes>"
      ]
     },
     "metadata": {},
     "output_type": "display_data"
    }
   ],
   "source": [
    "order = submethod_prediction_errors_df.groupby('submethod').median().sort_values('error').index\n",
    "# boxplot\n",
    "plt.rcParams[\"figure.figsize\"] = (16,10)\n",
    "sns.boxplot(x='submethod', y='error', data=submethod_prediction_errors_df,\n",
    "            showfliers=False, order=order)\n",
    "# increase font size\n",
    "#increase plot size\n",
    "plt.rcParams.update({'font.size': 18})\n",
    "plt.xlabel(None)\n",
    "\n",
    "# rename x ticks labels to be more readable\n",
    "plt.xticks(range(len(order)), [get_submethod_label_for_plot(submethod) for submethod in order])\n",
    "\n",
    "\n",
    "plt.ylabel('Errors on prediction time')\n",
    "#put white background\n",
    "sns.set_style(\"whitegrid\")"
   ]
  },
  {
   "cell_type": "code",
   "execution_count": 13,
   "metadata": {},
   "outputs": [
    {
     "data": {
      "text/html": [
       "<div>\n",
       "<style scoped>\n",
       "    .dataframe tbody tr th:only-of-type {\n",
       "        vertical-align: middle;\n",
       "    }\n",
       "\n",
       "    .dataframe tbody tr th {\n",
       "        vertical-align: top;\n",
       "    }\n",
       "\n",
       "    .dataframe thead th {\n",
       "        text-align: right;\n",
       "    }\n",
       "</style>\n",
       "<table border=\"1\" class=\"dataframe\">\n",
       "  <thead>\n",
       "    <tr style=\"text-align: right;\">\n",
       "      <th></th>\n",
       "      <th>submethod</th>\n",
       "      <th>file</th>\n",
       "      <th>error</th>\n",
       "      <th>timestamp</th>\n",
       "      <th>timestamp_density</th>\n",
       "      <th>decay</th>\n",
       "    </tr>\n",
       "  </thead>\n",
       "  <tbody>\n",
       "    <tr>\n",
       "      <th>0</th>\n",
       "      <td>naive</td>\n",
       "      <td>1705930483445_1705928979_BI8.csv</td>\n",
       "      <td>0.149</td>\n",
       "      <td>1705930483445</td>\n",
       "      <td>1705928979</td>\n",
       "      <td>0.543458</td>\n",
       "    </tr>\n",
       "    <tr>\n",
       "      <th>1</th>\n",
       "      <td>naive</td>\n",
       "      <td>1705930483445_1705928979_BI8.csv</td>\n",
       "      <td>0.288</td>\n",
       "      <td>1705930483445</td>\n",
       "      <td>1705928979</td>\n",
       "      <td>0.543458</td>\n",
       "    </tr>\n",
       "    <tr>\n",
       "      <th>2</th>\n",
       "      <td>naive</td>\n",
       "      <td>1705930483445_1705928979_BI8.csv</td>\n",
       "      <td>0.033</td>\n",
       "      <td>1705930483445</td>\n",
       "      <td>1705928979</td>\n",
       "      <td>0.543458</td>\n",
       "    </tr>\n",
       "    <tr>\n",
       "      <th>3</th>\n",
       "      <td>naive</td>\n",
       "      <td>1705930483445_1705928979_BI8.csv</td>\n",
       "      <td>0.015</td>\n",
       "      <td>1705930483445</td>\n",
       "      <td>1705928979</td>\n",
       "      <td>0.543458</td>\n",
       "    </tr>\n",
       "    <tr>\n",
       "      <th>4</th>\n",
       "      <td>naive</td>\n",
       "      <td>1705930483445_1705928979_BI8.csv</td>\n",
       "      <td>0.088</td>\n",
       "      <td>1705930483445</td>\n",
       "      <td>1705928979</td>\n",
       "      <td>0.543458</td>\n",
       "    </tr>\n",
       "  </tbody>\n",
       "</table>\n",
       "</div>"
      ],
      "text/plain": [
       "  submethod                              file  error      timestamp  \\\n",
       "0     naive  1705930483445_1705928979_BI8.csv  0.149  1705930483445   \n",
       "1     naive  1705930483445_1705928979_BI8.csv  0.288  1705930483445   \n",
       "2     naive  1705930483445_1705928979_BI8.csv  0.033  1705930483445   \n",
       "3     naive  1705930483445_1705928979_BI8.csv  0.015  1705930483445   \n",
       "4     naive  1705930483445_1705928979_BI8.csv  0.088  1705930483445   \n",
       "\n",
       "   timestamp_density     decay  \n",
       "0         1705928979  0.543458  \n",
       "1         1705928979  0.543458  \n",
       "2         1705928979  0.543458  \n",
       "3         1705928979  0.543458  \n",
       "4         1705928979  0.543458  "
      ]
     },
     "execution_count": 13,
     "metadata": {},
     "output_type": "execute_result"
    }
   ],
   "source": [
    "decay_hawkes5_df = pd.read_csv('data/hawkes_best_decays/hawkes_decay_15min.tsv', sep='\\t')\n",
    "decay_hawkes5_df\n",
    "submethod_prediction_errors_df = submethod_prediction_errors_df.merge(decay_hawkes5_df, on=['timestamp', 'timestamp_density'])\n",
    "submethod_prediction_errors_df.head()"
   ]
  },
  {
   "cell_type": "code",
   "execution_count": 14,
   "metadata": {},
   "outputs": [
    {
     "data": {
      "image/png": "[encoded data removed]",
      "text/plain": [
       "<Figure size 1152x720 with 1 Axes>"
      ]
     },
     "metadata": {},
     "output_type": "display_data"
    }
   ],
   "source": [
    "df = submethod_prediction_errors_df[submethod_prediction_errors_df['submethod'] == 'hawkes_15'].copy()\n",
    "df['beta_saturated'] = df['decay'].apply(lambda x: x == 100)\n",
    "# boxplot\n",
    "plt.rcParams[\"figure.figsize\"] = (16,10)\n",
    "sns.boxplot(x='beta_saturated', y='error', data=df,\n",
    "            showfliers=False)\n",
    "# increase font size\n",
    "#increase plot size\n",
    "plt.rcParams.update({'font.size': 18})\n",
    "plt.xlabel(None)\n",
    "\n",
    "plt.ylabel('Errors on prediction time')\n",
    "#put white background\n",
    "sns.set_style(\"whitegrid\")"
   ]
  },
  {
   "cell_type": "code",
   "execution_count": 15,
   "metadata": {},
   "outputs": [
    {
     "data": {
      "text/plain": [
       "0.7010703567855952"
      ]
     },
     "execution_count": 15,
     "metadata": {},
     "output_type": "execute_result"
    }
   ],
   "source": [
    "decay_hawkes5_df[decay_hawkes5_df['decay'] != 100]['decay'].mean()"
   ]
  }
 ],
 "metadata": {
  "kernelspec": {
   "display_name": "scanpy",
   "language": "python",
   "name": "python3"
  },
  "language_info": {
   "codemirror_mode": {
    "name": "ipython",
    "version": 3
   },
   "file_extension": ".py",
   "mimetype": "text/x-python",
   "name": "python",
   "nbconvert_exporter": "python",
   "pygments_lexer": "ipython3",
   "version": "3.8.0"
  }
 },
 "nbformat": 4,
 "nbformat_minor": 2
}
